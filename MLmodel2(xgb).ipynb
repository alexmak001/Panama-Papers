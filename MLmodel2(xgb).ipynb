{
 "cells": [
  {
   "cell_type": "code",
   "execution_count": 64,
   "metadata": {},
   "outputs": [],
   "source": [
    "import numpy as np\n",
    "# from numpy import loadtxt\n",
    "import pandas as pd\n",
    "import seaborn as sns\n",
    "import matplotlib.pyplot as plt\n",
    "\n",
    "import xgboost as xgb\n",
    "from sklearn.model_selection import train_test_split\n",
    "from sklearn.metrics import accuracy_score\n",
    "\n"
   ]
  },
  {
   "cell_type": "code",
   "execution_count": 80,
   "metadata": {},
   "outputs": [],
   "source": [
    "# load in data\n",
    "data = pd.read_csv(\"data/final/leaks.csv\")\n",
    "data = data[['entity', 'pagerank','tax', 'cpi_score', 'eigen', 'degree_centrality', 'labels']]\n",
    "data.head(5)\n",
    "# data.loc[data['labels'] == 1]\n",
    "# data.iloc[1:, 2:].to_csv('data/final/leaks_xgb_only.csv', index=False)\n",
    "\n"
   ]
  },
  {
   "cell_type": "code",
   "execution_count": 70,
   "metadata": {},
   "outputs": [
    {
     "data": {
      "text/plain": [
       "array([[0.00000000e+00, 2.50000000e+01, 6.80000000e+01, 2.15155429e-04,\n",
       "        0.00000000e+00, 0.00000000e+00],\n",
       "       [1.00000000e+00, 2.50000000e+01, 6.80000000e+01, 4.22398062e-04,\n",
       "        0.00000000e+00, 0.00000000e+00],\n",
       "       [2.00000000e+00, 2.50000000e+01, 6.80000000e+01, 2.15155429e-04,\n",
       "        0.00000000e+00, 0.00000000e+00],\n",
       "       ...,\n",
       "       [2.80550000e+05, 3.30000000e+01, 5.50000000e+01, 2.15155429e-04,\n",
       "        0.00000000e+00, 0.00000000e+00],\n",
       "       [2.80551000e+05, 2.50000000e+01, 3.90000000e+01, 6.29640696e-04,\n",
       "        0.00000000e+00, 0.00000000e+00],\n",
       "       [2.80552000e+05, 2.50000000e+01, 3.90000000e+01, 2.15155429e-04,\n",
       "        0.00000000e+00, 0.00000000e+00]])"
      ]
     },
     "execution_count": 70,
     "metadata": {},
     "output_type": "execute_result"
    }
   ],
   "source": [
    "# train-test split evaluation of xgboost model\n",
    "dataset = np.loadtxt('data/final/leaks_xgb_only.csv', delimiter=\",\")\n",
    "# split data into X and y\n",
    "X = dataset[:,0:8]\n",
    "Y = dataset[:,8]\n",
    "dataset\n"
   ]
  },
  {
   "cell_type": "code",
   "execution_count": null,
   "metadata": {},
   "outputs": [],
   "source": [
    "# set parameters\n",
    "\n",
    "param = {'max_depth': 2, 'eta': 1, 'objective': 'binary:logistic'}\n",
    "param['nthread'] = 4\n",
    "param['eval_metric'] = 'auc'"
   ]
  }
 ],
 "metadata": {
  "interpreter": {
   "hash": "5295a267c55f180e60e71387ea73cc020fddd40d0e79d6e49d9e5453acf0c9a9"
  },
  "kernelspec": {
   "display_name": "Python 3.8.12 ('dsc80')",
   "language": "python",
   "name": "python3"
  },
  "language_info": {
   "codemirror_mode": {
    "name": "ipython",
    "version": 3
   },
   "file_extension": ".py",
   "mimetype": "text/x-python",
   "name": "python",
   "nbconvert_exporter": "python",
   "pygments_lexer": "ipython3",
   "version": "3.8.12"
  },
  "orig_nbformat": 4
 },
 "nbformat": 4,
 "nbformat_minor": 2
}
