{
 "cells": [
  {
   "cell_type": "code",
   "execution_count": 1,
   "metadata": {},
   "outputs": [],
   "source": [
    "import pandas as pd \n",
    "import numpy as np\n",
    "import seaborn as sns\n",
    "import matplotlib.pyplot as plt\n",
    "#CALL gds.pageRank.stream({nodeProjection:'*',relationshipProjection:'*'}) YIELD nodeId, score\n",
    "#        WITH gds.util.asNode(nodeId) as node, score\n",
    "#        WHERE node:Officer AND node.sourceID STARTS WITH \"Pandora Papers\"\n",
    "#        WITH * ORDER BY score DESC LIMIT 10\n",
    "#        MATCH ()<-[r:officer_of]-(o:Officer)\n",
    "#        RETURN o.name, count(o) AS count, r.link as relationship\n",
    "#        ORDER BY count DESC"
   ]
  },
  {
   "cell_type": "markdown",
   "metadata": {},
   "source": [
    "Below is a data frame of the most important officers "
   ]
  },
  {
   "cell_type": "code",
   "execution_count": 2,
   "metadata": {},
   "outputs": [
    {
     "data": {
      "text/html": [
       "<div>\n",
       "<style scoped>\n",
       "    .dataframe tbody tr th:only-of-type {\n",
       "        vertical-align: middle;\n",
       "    }\n",
       "\n",
       "    .dataframe tbody tr th {\n",
       "        vertical-align: top;\n",
       "    }\n",
       "\n",
       "    .dataframe thead th {\n",
       "        text-align: right;\n",
       "    }\n",
       "</style>\n",
       "<table border=\"1\" class=\"dataframe\">\n",
       "  <thead>\n",
       "    <tr style=\"text-align: right;\">\n",
       "      <th></th>\n",
       "      <th>o.name</th>\n",
       "      <th>count</th>\n",
       "      <th>relationship</th>\n",
       "    </tr>\n",
       "  </thead>\n",
       "  <tbody>\n",
       "    <tr>\n",
       "      <th>0</th>\n",
       "      <td>THE BEARER</td>\n",
       "      <td>709480</td>\n",
       "      <td>shareholder of</td>\n",
       "    </tr>\n",
       "    <tr>\n",
       "      <th>1</th>\n",
       "      <td>Portcullis TrustNet (BVI) Limited</td>\n",
       "      <td>362380</td>\n",
       "      <td>records &amp; registers of</td>\n",
       "    </tr>\n",
       "    <tr>\n",
       "      <th>2</th>\n",
       "      <td>EL PORTADOR</td>\n",
       "      <td>93260</td>\n",
       "      <td>shareholder of</td>\n",
       "    </tr>\n",
       "    <tr>\n",
       "      <th>3</th>\n",
       "      <td>Portcullis TrustNet (Samoa) Limited</td>\n",
       "      <td>56410</td>\n",
       "      <td>shareholder of</td>\n",
       "    </tr>\n",
       "    <tr>\n",
       "      <th>4</th>\n",
       "      <td>MOSSFON SUBSCRIBERS LTD.</td>\n",
       "      <td>39590</td>\n",
       "      <td>shareholder of</td>\n",
       "    </tr>\n",
       "    <tr>\n",
       "      <th>...</th>\n",
       "      <td>...</td>\n",
       "      <td>...</td>\n",
       "      <td>...</td>\n",
       "    </tr>\n",
       "    <tr>\n",
       "      <th>764213</th>\n",
       "      <td>CHERRY ROOSTANDY</td>\n",
       "      <td>10</td>\n",
       "      <td>director of</td>\n",
       "    </tr>\n",
       "    <tr>\n",
       "      <th>764214</th>\n",
       "      <td>CHERRY ROOSTANDY</td>\n",
       "      <td>10</td>\n",
       "      <td>judicial representative of</td>\n",
       "    </tr>\n",
       "    <tr>\n",
       "      <th>764215</th>\n",
       "      <td>RETO STUTZ</td>\n",
       "      <td>10</td>\n",
       "      <td>shareholder of</td>\n",
       "    </tr>\n",
       "    <tr>\n",
       "      <th>764216</th>\n",
       "      <td>DANIEL ZIMMERMANN</td>\n",
       "      <td>10</td>\n",
       "      <td>shareholder of</td>\n",
       "    </tr>\n",
       "    <tr>\n",
       "      <th>764217</th>\n",
       "      <td>CRISTIANO MOROSOLI</td>\n",
       "      <td>10</td>\n",
       "      <td>judicial representative of</td>\n",
       "    </tr>\n",
       "  </tbody>\n",
       "</table>\n",
       "<p>764218 rows × 3 columns</p>\n",
       "</div>"
      ],
      "text/plain": [
       "                                     o.name   count  \\\n",
       "0                                THE BEARER  709480   \n",
       "1         Portcullis TrustNet (BVI) Limited  362380   \n",
       "2                               EL PORTADOR   93260   \n",
       "3       Portcullis TrustNet (Samoa) Limited   56410   \n",
       "4                  MOSSFON SUBSCRIBERS LTD.   39590   \n",
       "...                                     ...     ...   \n",
       "764213                     CHERRY ROOSTANDY      10   \n",
       "764214                     CHERRY ROOSTANDY      10   \n",
       "764215                           RETO STUTZ      10   \n",
       "764216                    DANIEL ZIMMERMANN      10   \n",
       "764217                   CRISTIANO MOROSOLI      10   \n",
       "\n",
       "                      relationship  \n",
       "0                   shareholder of  \n",
       "1           records & registers of  \n",
       "2                   shareholder of  \n",
       "3                   shareholder of  \n",
       "4                   shareholder of  \n",
       "...                            ...  \n",
       "764213                 director of  \n",
       "764214  judicial representative of  \n",
       "764215              shareholder of  \n",
       "764216              shareholder of  \n",
       "764217  judicial representative of  \n",
       "\n",
       "[764218 rows x 3 columns]"
      ]
     },
     "execution_count": 2,
     "metadata": {},
     "output_type": "execute_result"
    }
   ],
   "source": [
    "data = pd.read_csv('data/export.csv')\n",
    "data"
   ]
  },
  {
   "cell_type": "markdown",
   "metadata": {},
   "source": [
    "Notice The bearer is absurdly high "
   ]
  },
  {
   "cell_type": "code",
   "execution_count": 3,
   "metadata": {},
   "outputs": [
    {
     "name": "stdout",
     "output_type": "stream",
     "text": [
      "523500\n",
      "516\n"
     ]
    }
   ],
   "source": [
    "print(data['o.name'].nunique())\n",
    "print(data['relationship'].nunique())"
   ]
  },
  {
   "cell_type": "code",
   "execution_count": 4,
   "metadata": {},
   "outputs": [
    {
     "data": {
      "text/html": [
       "<div>\n",
       "<style scoped>\n",
       "    .dataframe tbody tr th:only-of-type {\n",
       "        vertical-align: middle;\n",
       "    }\n",
       "\n",
       "    .dataframe tbody tr th {\n",
       "        vertical-align: top;\n",
       "    }\n",
       "\n",
       "    .dataframe thead th {\n",
       "        text-align: right;\n",
       "    }\n",
       "</style>\n",
       "<table border=\"1\" class=\"dataframe\">\n",
       "  <thead>\n",
       "    <tr style=\"text-align: right;\">\n",
       "      <th></th>\n",
       "      <th>count</th>\n",
       "    </tr>\n",
       "    <tr>\n",
       "      <th>relationship</th>\n",
       "      <th></th>\n",
       "    </tr>\n",
       "  </thead>\n",
       "  <tbody>\n",
       "    <tr>\n",
       "      <th>shareholder of</th>\n",
       "      <td>5834380</td>\n",
       "    </tr>\n",
       "    <tr>\n",
       "      <th>director of</th>\n",
       "      <td>4525400</td>\n",
       "    </tr>\n",
       "    <tr>\n",
       "      <th>secretary of</th>\n",
       "      <td>1121920</td>\n",
       "    </tr>\n",
       "    <tr>\n",
       "      <th>judicial representative of</th>\n",
       "      <td>1095260</td>\n",
       "    </tr>\n",
       "    <tr>\n",
       "      <th>legal representative of</th>\n",
       "      <td>991810</td>\n",
       "    </tr>\n",
       "    <tr>\n",
       "      <th>...</th>\n",
       "      <td>...</td>\n",
       "    </tr>\n",
       "    <tr>\n",
       "      <th>director/treasurer</th>\n",
       "      <td>10</td>\n",
       "    </tr>\n",
       "    <tr>\n",
       "      <th>director/proxy of</th>\n",
       "      <td>10</td>\n",
       "    </tr>\n",
       "    <tr>\n",
       "      <th>director/president</th>\n",
       "      <td>10</td>\n",
       "    </tr>\n",
       "    <tr>\n",
       "      <th>director/officer president</th>\n",
       "      <td>10</td>\n",
       "    </tr>\n",
       "    <tr>\n",
       "      <th>vp / treasurer / directo</th>\n",
       "      <td>10</td>\n",
       "    </tr>\n",
       "  </tbody>\n",
       "</table>\n",
       "<p>516 rows × 1 columns</p>\n",
       "</div>"
      ],
      "text/plain": [
       "                              count\n",
       "relationship                       \n",
       "shareholder of              5834380\n",
       "director of                 4525400\n",
       "secretary of                1121920\n",
       "judicial representative of  1095260\n",
       "legal representative of      991810\n",
       "...                             ...\n",
       "director/treasurer               10\n",
       "director/proxy of                10\n",
       "director/president               10\n",
       "director/officer president       10\n",
       "vp / treasurer / directo         10\n",
       "\n",
       "[516 rows x 1 columns]"
      ]
     },
     "execution_count": 4,
     "metadata": {},
     "output_type": "execute_result"
    }
   ],
   "source": [
    "rels = data.groupby(['relationship']).sum().sort_values(by = 'count',ascending=False)\n",
    "rels"
   ]
  },
  {
   "cell_type": "code",
   "execution_count": 5,
   "metadata": {},
   "outputs": [
    {
     "data": {
      "text/plain": [
       "<AxesSubplot:xlabel='relationship', ylabel='count'>"
      ]
     },
     "execution_count": 5,
     "metadata": {},
     "output_type": "execute_result"
    },
    {
     "data": {
      "image/png": "[encoded data removed]",
      "text/plain": [
       "<Figure size 1800x720 with 1 Axes>"
      ]
     },
     "metadata": {
      "needs_background": "light"
     },
     "output_type": "display_data"
    }
   ],
   "source": [
    "plt.figure(figsize=(25,10))\n",
    "sns.barplot(x=rels.index[:10],y='count',data=rels[:10])"
   ]
  },
  {
   "cell_type": "code",
   "execution_count": null,
   "metadata": {},
   "outputs": [],
   "source": []
  }
 ],
 "metadata": {
  "interpreter": {
   "hash": "213202a0cd8efddbbf511abb213508e1e768e8ce4ad6ba2c9ec5c0d49826e071"
  },
  "kernelspec": {
   "display_name": "Python 3.9.10 64-bit (windows store)",
   "language": "python",
   "name": "python3"
  },
  "language_info": {
   "codemirror_mode": {
    "name": "ipython",
    "version": 3
   },
   "file_extension": ".py",
   "mimetype": "text/x-python",
   "name": "python",
   "nbconvert_exporter": "python",
   "pygments_lexer": "ipython3",
   "version": "3.9.10"
  },
  "orig_nbformat": 4
 },
 "nbformat": 4,
 "nbformat_minor": 2
}
