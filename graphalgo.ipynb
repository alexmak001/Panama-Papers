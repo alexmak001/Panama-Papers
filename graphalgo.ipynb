{
 "cells": [
  {
   "cell_type": "code",
   "execution_count": 1,
   "metadata": {},
   "outputs": [],
   "source": [
    "from neo4j import GraphDatabase, basic_auth\n",
    "import pandas as pd"
   ]
  },
  {
   "cell_type": "code",
   "execution_count": 2,
   "metadata": {},
   "outputs": [],
   "source": [
    "# launch neoj4 browser and start an instance of the database\n",
    "driver = GraphDatabase.driver(\n",
    "  \"bolt://localhost:7687\",\n",
    "  auth=basic_auth(\"neo4j\", \"alex\"))\n"
   ]
  },
  {
   "cell_type": "markdown",
   "metadata": {},
   "source": [
    "#### Page Rank"
   ]
  },
  {
   "cell_type": "markdown",
   "metadata": {},
   "source": [
    "Need to select all of the nodes and relationships that matter most to us, not including random one.\n",
    "\n",
    "Nodes: Officer, Entity, Intermediary, Address\n",
    "\n",
    "Connections: officer_of, registered_address, intermediary_of, connected_to\n",
    "\n",
    "Cypher Query for Page rank:\n",
    "\n",
    "CALL gds.pageRank.stream({nodeProjection:['Entity' , 'Officer',\"Intermediary\", \"Address\"],relationshipProjection:[\"officer_of\", \"registered_address\", \"intermediary_of\", \"connected_to\"]}) YIELD nodeId, score\n",
    "        WITH gds.util.asNode(nodeId) as node, score\n",
    "        WHERE node:Entity AND node.sourceID STARTS WITH \"Panama Papers\"\n",
    "        RETURN node.name AS entity, score\n",
    "        ORDER BY score DESC\n",
    "        LIMIT 20\n"
   ]
  },
  {
   "cell_type": "markdown",
   "metadata": {},
   "source": []
  }
 ],
 "metadata": {
  "interpreter": {
   "hash": "054c0128ae785496ec715fe55dc407401ac17e534a17f921fadf0b2704e9e719"
  },
  "kernelspec": {
   "display_name": "Python 3.8.3 ('base')",
   "language": "python",
   "name": "python3"
  },
  "language_info": {
   "codemirror_mode": {
    "name": "ipython",
    "version": 3
   },
   "file_extension": ".py",
   "mimetype": "text/x-python",
   "name": "python",
   "nbconvert_exporter": "python",
   "pygments_lexer": "ipython3",
   "version": "3.7.6"
  },
  "orig_nbformat": 4
 },
 "nbformat": 4,
 "nbformat_minor": 2
}
