{
 "cells": [
  {
   "cell_type": "code",
   "execution_count": 1,
   "metadata": {},
   "outputs": [],
   "source": [
    "from neo4j import GraphDatabase, basic_auth\n",
    "import pandas as pd\n",
    "from qtocsv import neotocsv"
   ]
  },
  {
   "cell_type": "code",
   "execution_count": 2,
   "metadata": {},
   "outputs": [],
   "source": [
    "# launch neoj4 browser and start an instance of the database\n",
    "driver = GraphDatabase.driver(\n",
    "  \"bolt://localhost:7687\",\n",
    "  auth=basic_auth(\"neo4j\", \"alex\"))\n"
   ]
  },
  {
   "cell_type": "markdown",
   "metadata": {},
   "source": [
    "#### Page Rank"
   ]
  },
  {
   "cell_type": "markdown",
   "metadata": {},
   "source": [
    "Need to select all of the nodes and relationships that matter most to us, not including random one.\n",
    "\n",
    "Nodes: Officer, Entity, Intermediary, Address\n",
    "\n",
    "Connections: officer_of, registered_address, intermediary_of, connected_to\n",
    "\n",
    "Cypher Query for Page rank:\n",
    "\n",
    "CALL gds.pageRank.stream({nodeProjection:['Entity' , 'Officer',\"Intermediary\", \"Address\"],relationshipProjection:[\"officer_of\", \"registered_address\", \"intermediary_of\", \"connected_to\"]}) YIELD nodeId, score\n",
    "        WITH gds.util.asNode(nodeId) as node, score\n",
    "        WHERE node:Entity AND node.sourceID STARTS WITH \"Panama Papers\"\n",
    "        RETURN node.name AS entity, score\n",
    "        ORDER BY score DESC\n",
    "        LIMIT 20\n"
   ]
  },
  {
   "cell_type": "code",
   "execution_count": 7,
   "metadata": {},
   "outputs": [],
   "source": [
    "pageRankQ = \"CALL gds.pageRank.stream({nodeProjection:['Entity' , 'Officer','Intermediary', 'Address'],relationshipProjection:['officer_of', 'registered_address', 'intermediary_of', 'connected_to']}) YIELD nodeId, score WITH gds.util.asNode(nodeId) as node, score WHERE node:Entity AND node.sourceID STARTS WITH 'Panama Papers' RETURN node.name AS entity, score ORDER BY score DESC\""
   ]
  },
  {
   "cell_type": "code",
   "execution_count": 8,
   "metadata": {},
   "outputs": [],
   "source": [
    "neotocsv(\"page_rank_scores.csv\", pageRankQ,driver)"
   ]
  },
  {
   "cell_type": "markdown",
   "metadata": {},
   "source": [
    "#### Degree Centrality Score\n",
    "\n",
    "CALL gds.degree.stream({nodeProjection:['Entity' , 'Officer',\"Intermediary\", \"Address\"],relationshipProjection:[\"officer_of\", \"registered_address\", \"intermediary_of\", \"connected_to\"]}) YIELD nodeId, score\n",
    "        WITH gds.util.asNode(nodeId) as node, score\n",
    "        WHERE node:Entity AND node.sourceID STARTS WITH \"Panama Papers\"\n",
    "        RETURN node.name AS entity, score\n",
    "        ORDER BY score DESC"
   ]
  },
  {
   "cell_type": "code",
   "execution_count": 9,
   "metadata": {},
   "outputs": [],
   "source": [
    "degreeCentQ = \"CALL gds.degree.stream({nodeProjection:['Entity' , 'Officer','Intermediary', 'Address'],relationshipProjection:['officer_of', 'registered_address', 'intermediary_of', 'connected_to']}) YIELD nodeId, score WITH gds.util.asNode(nodeId) as node, score WHERE node:Entity AND node.sourceID STARTS WITH 'Panama Papers' RETURN node.name AS entity, score ORDER BY score DESC\""
   ]
  },
  {
   "cell_type": "code",
   "execution_count": 10,
   "metadata": {},
   "outputs": [],
   "source": [
    "neotocsv(\"degree_centrality_scores.csv\", degreeCentQ,driver)"
   ]
  },
  {
   "cell_type": "code",
   "execution_count": 3,
   "metadata": {},
   "outputs": [
    {
     "data": {
      "text/html": [
       "<div>\n",
       "<style scoped>\n",
       "    .dataframe tbody tr th:only-of-type {\n",
       "        vertical-align: middle;\n",
       "    }\n",
       "\n",
       "    .dataframe tbody tr th {\n",
       "        vertical-align: top;\n",
       "    }\n",
       "\n",
       "    .dataframe thead th {\n",
       "        text-align: right;\n",
       "    }\n",
       "</style>\n",
       "<table border=\"1\" class=\"dataframe\">\n",
       "  <thead>\n",
       "    <tr style=\"text-align: right;\">\n",
       "      <th></th>\n",
       "      <th>entity</th>\n",
       "      <th>score</th>\n",
       "    </tr>\n",
       "  </thead>\n",
       "  <tbody>\n",
       "    <tr>\n",
       "      <th>0</th>\n",
       "      <td>PURPLE INV. CORP.</td>\n",
       "      <td>1.0</td>\n",
       "    </tr>\n",
       "    <tr>\n",
       "      <th>1</th>\n",
       "      <td>HEBRA INTERNATIONAL INC.</td>\n",
       "      <td>1.0</td>\n",
       "    </tr>\n",
       "    <tr>\n",
       "      <th>2</th>\n",
       "      <td>LIBERTY CONSULTANTS INVESTMENTS LIMITED</td>\n",
       "      <td>1.0</td>\n",
       "    </tr>\n",
       "    <tr>\n",
       "      <th>3</th>\n",
       "      <td>NETHERCOTT HOLDINGS INC.</td>\n",
       "      <td>1.0</td>\n",
       "    </tr>\n",
       "    <tr>\n",
       "      <th>4</th>\n",
       "      <td>EMPLAZAMIENTO CLAVE S.L.</td>\n",
       "      <td>1.0</td>\n",
       "    </tr>\n",
       "  </tbody>\n",
       "</table>\n",
       "</div>"
      ],
      "text/plain": [
       "                                    entity  score\n",
       "0                        PURPLE INV. CORP.    1.0\n",
       "1                 HEBRA INTERNATIONAL INC.    1.0\n",
       "2  LIBERTY CONSULTANTS INVESTMENTS LIMITED    1.0\n",
       "3                 NETHERCOTT HOLDINGS INC.    1.0\n",
       "4                 EMPLAZAMIENTO CLAVE S.L.    1.0"
      ]
     },
     "execution_count": 3,
     "metadata": {},
     "output_type": "execute_result"
    }
   ],
   "source": [
    "degreeC = pd.read_csv(\"data/degree_centrality_scores.csv\")\n",
    "degreeC.head()"
   ]
  },
  {
   "cell_type": "code",
   "execution_count": 6,
   "metadata": {},
   "outputs": [
    {
     "data": {
      "text/plain": [
       "0.024855710494165226"
      ]
     },
     "execution_count": 6,
     "metadata": {},
     "output_type": "execute_result"
    }
   ],
   "source": [
    "degreeC.score.mean()"
   ]
  },
  {
   "cell_type": "code",
   "execution_count": null,
   "metadata": {},
   "outputs": [],
   "source": []
  },
  {
   "cell_type": "markdown",
   "metadata": {},
   "source": [
    "#### Eigenvector Similarity"
   ]
  },
  {
   "cell_type": "markdown",
   "metadata": {},
   "source": [
    "CALL gds.eigenvector.stream({nodeProjection:['Entity' , 'Officer',\"Intermediary\", \"Address\"],relationshipProjection:[\"officer_of\", \"registered_address\", \"intermediary_of\", \"connected_to\"]}) YIELD nodeId, score\n",
    "        WITH gds.util.asNode(nodeId) as node, score\n",
    "        WHERE node:Entity AND node.sourceID STARTS WITH \"Panama Papers\"\n",
    "        RETURN node.name AS entity, score\n",
    "        ORDER BY score DESC"
   ]
  },
  {
   "cell_type": "code",
   "execution_count": 12,
   "metadata": {},
   "outputs": [],
   "source": [
    "eigenVecQ = \"CALL gds.eigenvector.stream({nodeProjection:['Entity' , 'Officer','Intermediary', 'Address'],relationshipProjection:['officer_of', 'registered_address', 'intermediary_of', 'connected_to']}) YIELD nodeId, score WITH gds.util.asNode(nodeId) as node, score WHERE node:Entity AND node.sourceID STARTS WITH 'Panama Papers' RETURN node.name AS entity, score ORDER BY score DESC\""
   ]
  },
  {
   "cell_type": "code",
   "execution_count": 13,
   "metadata": {},
   "outputs": [],
   "source": [
    "neotocsv(\"eigenvector_similarity_scores.csv\", eigenVecQ,driver)"
   ]
  },
  {
   "cell_type": "code",
   "execution_count": 2,
   "metadata": {},
   "outputs": [
    {
     "data": {
      "text/html": [
       "<div>\n",
       "<style scoped>\n",
       "    .dataframe tbody tr th:only-of-type {\n",
       "        vertical-align: middle;\n",
       "    }\n",
       "\n",
       "    .dataframe tbody tr th {\n",
       "        vertical-align: top;\n",
       "    }\n",
       "\n",
       "    .dataframe thead th {\n",
       "        text-align: right;\n",
       "    }\n",
       "</style>\n",
       "<table border=\"1\" class=\"dataframe\">\n",
       "  <thead>\n",
       "    <tr style=\"text-align: right;\">\n",
       "      <th></th>\n",
       "      <th>entity</th>\n",
       "      <th>score</th>\n",
       "    </tr>\n",
       "  </thead>\n",
       "  <tbody>\n",
       "    <tr>\n",
       "      <th>0</th>\n",
       "      <td>VERSE DEVELOPMENT CORP.</td>\n",
       "      <td>1.101838e-95</td>\n",
       "    </tr>\n",
       "    <tr>\n",
       "      <th>1</th>\n",
       "      <td>INROW CORPORATION</td>\n",
       "      <td>1.101838e-95</td>\n",
       "    </tr>\n",
       "    <tr>\n",
       "      <th>2</th>\n",
       "      <td>PARK PROPERTY LIMITED</td>\n",
       "      <td>1.101838e-95</td>\n",
       "    </tr>\n",
       "    <tr>\n",
       "      <th>3</th>\n",
       "      <td>CRASSUS LIMITED</td>\n",
       "      <td>1.101838e-95</td>\n",
       "    </tr>\n",
       "    <tr>\n",
       "      <th>4</th>\n",
       "      <td>SOLANO HOLDINGS INC.</td>\n",
       "      <td>5.509189e-96</td>\n",
       "    </tr>\n",
       "  </tbody>\n",
       "</table>\n",
       "</div>"
      ],
      "text/plain": [
       "                    entity         score\n",
       "0  VERSE DEVELOPMENT CORP.  1.101838e-95\n",
       "1        INROW CORPORATION  1.101838e-95\n",
       "2    PARK PROPERTY LIMITED  1.101838e-95\n",
       "3          CRASSUS LIMITED  1.101838e-95\n",
       "4     SOLANO HOLDINGS INC.  5.509189e-96"
      ]
     },
     "execution_count": 2,
     "metadata": {},
     "output_type": "execute_result"
    }
   ],
   "source": [
    "eigen = pd.read_csv(\"data/eigenvector_similarity_scores.csv\")\n",
    "eigen.head()"
   ]
  },
  {
   "cell_type": "markdown",
   "metadata": {},
   "source": [
    "#### Betweenness Centrality"
   ]
  },
  {
   "cell_type": "markdown",
   "metadata": {},
   "source": [
    "CALL gds.betweenness.stream({nodeProjection:['Entity' , 'Officer',\"Intermediary\", \"Address\"],relationshipProjection:[\"officer_of\", \"registered_address\", \"intermediary_of\", \"connected_to\"]}) YIELD nodeId, score\n",
    "        WITH gds.util.asNode(nodeId) as node, score\n",
    "        WHERE node:Entity AND node.sourceID STARTS WITH \"Panama Papers\"\n",
    "        RETURN node.name AS entity, score\n",
    "        ORDER BY score DESC"
   ]
  },
  {
   "cell_type": "code",
   "execution_count": null,
   "metadata": {},
   "outputs": [],
   "source": []
  }
 ],
 "metadata": {
  "interpreter": {
   "hash": "054c0128ae785496ec715fe55dc407401ac17e534a17f921fadf0b2704e9e719"
  },
  "kernelspec": {
   "display_name": "Python 3.8.3 ('base')",
   "language": "python",
   "name": "python3"
  },
  "language_info": {
   "codemirror_mode": {
    "name": "ipython",
    "version": 3
   },
   "file_extension": ".py",
   "mimetype": "text/x-python",
   "name": "python",
   "nbconvert_exporter": "python",
   "pygments_lexer": "ipython3",
   "version": "3.7.6"
  },
  "orig_nbformat": 4
 },
 "nbformat": 4,
 "nbformat_minor": 2
}
