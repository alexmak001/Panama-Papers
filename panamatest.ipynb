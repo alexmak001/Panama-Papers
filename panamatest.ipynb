{
 "cells": [
  {
   "cell_type": "code",
   "execution_count": 12,
   "metadata": {},
   "outputs": [],
   "source": [
    "from neo4j import GraphDatabase, basic_auth"
   ]
  },
  {
   "cell_type": "code",
   "execution_count": 13,
   "metadata": {},
   "outputs": [],
   "source": [
    "driver = GraphDatabase.driver(\n",
    "  \"bolt://localhost:7687\",\n",
    "  auth=basic_auth(\"neo4j\", \"alex\"))"
   ]
  },
  {
   "cell_type": "code",
   "execution_count": 14,
   "metadata": {},
   "outputs": [],
   "source": [
    "cypher_query = '''\n",
    "MATCH (a:Officer {name:$name})-[r:officer_of|intermediary_of|registered_address*..10]-(b)\n",
    "RETURN b.name as name LIMIT 20\n",
    "'''"
   ]
  },
  {
   "cell_type": "markdown",
   "metadata": {},
   "source": [
    "### Github Example Query"
   ]
  },
  {
   "cell_type": "code",
   "execution_count": 15,
   "metadata": {},
   "outputs": [
    {
     "name": "stdout",
     "output_type": "stream",
     "text": [
      "WL Ross & Co. LLC; 1166 Avenue of the Americas; 25th Floor; New York New York  11036; United States of America\n",
      "WLR Recovery Fund IV L.P.\n",
      "WLR IV CLPG L.P.\n",
      "Walkers Corporate Services Limited, Walker House, 87 Mary Street, George Town; KY1-9005, Grand Cayman; Cayman Islands\n",
      "Taiyo Greater India Fund GP Ltd.\n",
      "Clifton House; 75 Fort Street; Grand Cayman KY1-1108; Cayman Islands\n",
      "Dynap Management Ltd\n",
      "DYNap Fund SPC\n",
      "Clifton House; 75 Fort Street; Grand Cayman KY1-1108; Cayman Islands\n",
      "Seville Holdings Ltd.\n",
      "Coller International Partners IV-FD, L.P.\n",
      "OGP IV (Caymans), Ltd.\n",
      "AEI\n",
      "Ghada A. Alireza Company, Ltd.\n",
      "Offshore, Design & Contracting Ltd. ** INCOMPLETE **\n",
      "ADAMAS INVESTMENTS LTD.\n",
      "GRANITE HOLDINGS LTD.\n",
      "Coller International General Partner IV, L.P.\n",
      "Coller International Partners IV-E, L.P.\n",
      "WEST BAY BEACH HOLDINGS\n"
     ]
    }
   ],
   "source": [
    "with driver.session(database=\"neo4j\") as session:\n",
    "    results = session.read_transaction(\n",
    "        lambda tx: tx.run(cypher_query,\n",
    "                      name=\"Ross, Jr. - Wilbur Louis\").data())\n",
    "    \n",
    "    for record in results:\n",
    "        print(record['name'])\n",
    "\n",
    "driver.close()"
   ]
  },
  {
   "cell_type": "markdown",
   "metadata": {},
   "source": [
    "### More examples"
   ]
  },
  {
   "cell_type": "code",
   "execution_count": 16,
   "metadata": {},
   "outputs": [],
   "source": [
    "cypher_query2 = '''\n",
    "MATCH (o:Officer)-->(e:Entity)<-[:intermediary_of]-(i:Intermediary)\n",
    "WHERE o.country_codes CONTAINS 'USA' and i.sourceID = 'Panama Papers'\n",
    "RETURN e.jurisdiction_description AS jurisdiction, count(*) AS number\n",
    "ORDER BY number DESC LIMIT 10\n",
    "'''"
   ]
  },
  {
   "cell_type": "code",
   "execution_count": 25,
   "metadata": {},
   "outputs": [
    {
     "name": "stdout",
     "output_type": "stream",
     "text": [
      "<Record jurisdiction='British Virgin Islands' number=3441>\n",
      "<Record jurisdiction='Bahamas' number=186>\n",
      "<Record jurisdiction='Seychelles' number=178>\n",
      "<Record jurisdiction='Panama' number=146>\n",
      "<Record jurisdiction='Samoa' number=98>\n",
      "<Record jurisdiction='British Anguilla' number=57>\n",
      "<Record jurisdiction='Nevada' number=23>\n",
      "<Record jurisdiction='Belize' number=7>\n",
      "<Record jurisdiction='Hong Kong' number=3>\n",
      "<Record jurisdiction='United Kingdom' number=3>\n"
     ]
    }
   ],
   "source": [
    "with driver.session(database=\"neo4j\") as session:\n",
    "    results = session.run(cypher_query2)\n",
    "\n",
    "    country = []\n",
    "    val = []\n",
    "    #print(results)\n",
    "    for record in results:\n",
    "        print(record)\n",
    "        country.append(record.values()[0])\n",
    "        val.append(record.values()[1])\n",
    "        \n",
    "\n",
    "driver.close()"
   ]
  },
  {
   "cell_type": "code",
   "execution_count": 22,
   "metadata": {},
   "outputs": [],
   "source": [
    "import matplotlib.pyplot as plt"
   ]
  },
  {
   "cell_type": "code",
   "execution_count": 23,
   "metadata": {},
   "outputs": [
    {
     "data": {
      "text/plain": [
       "[<matplotlib.lines.Line2D at 0x23239fe9310>]"
      ]
     },
     "execution_count": 23,
     "metadata": {},
     "output_type": "execute_result"
    },
    {
     "data": {
      "image/png": "[encoded data removed]",
      "text/plain": [
       "<Figure size 432x288 with 1 Axes>"
      ]
     },
     "metadata": {
      "needs_background": "light"
     },
     "output_type": "display_data"
    }
   ],
   "source": [
    "plt.plot(country,val)"
   ]
  },
  {
   "cell_type": "code",
   "execution_count": null,
   "metadata": {},
   "outputs": [],
   "source": []
  }
 ],
 "metadata": {
  "interpreter": {
   "hash": "054c0128ae785496ec715fe55dc407401ac17e534a17f921fadf0b2704e9e719"
  },
  "kernelspec": {
   "display_name": "Python 3.8.3 64-bit ('base': conda)",
   "language": "python",
   "name": "python3"
  },
  "language_info": {
   "codemirror_mode": {
    "name": "ipython",
    "version": 3
   },
   "file_extension": ".py",
   "mimetype": "text/x-python",
   "name": "python",
   "nbconvert_exporter": "python",
   "pygments_lexer": "ipython3",
   "version": "3.8.3"
  },
  "orig_nbformat": 4
 },
 "nbformat": 4,
 "nbformat_minor": 2
}
