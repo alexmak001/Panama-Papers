{
 "cells": [
  {
   "cell_type": "code",
   "execution_count": 1,
   "metadata": {},
   "outputs": [],
   "source": [
    "from neo4j import GraphDatabase, basic_auth\n",
    "import pandas as pd"
   ]
  },
  {
   "cell_type": "code",
   "execution_count": 2,
   "metadata": {},
   "outputs": [],
   "source": [
    "# launch neoj4 browser and start an instance of the database\n",
    "driver = GraphDatabase.driver(\n",
    "  \"bolt://localhost:7687\",\n",
    "  auth=basic_auth(\"neo4j\", \"alex\"))\n"
   ]
  },
  {
   "cell_type": "markdown",
   "metadata": {},
   "source": [
    "### Github example Query"
   ]
  },
  {
   "cell_type": "code",
   "execution_count": 3,
   "metadata": {},
   "outputs": [],
   "source": [
    "cypher_query = '''\n",
    "MATCH (a:Officer {name:$name})-[r:officer_of|intermediary_of|registered_address*..10]-(b)\n",
    "RETURN b.name as name LIMIT 20\n",
    "'''"
   ]
  },
  {
   "cell_type": "code",
   "execution_count": 4,
   "metadata": {},
   "outputs": [
    {
     "name": "stdout",
     "output_type": "stream",
     "text": [
      "20\n",
      "WL Ross & Co. LLC; 1166 Avenue of the Americas; 25th Floor; New York New York  11036; United States of America\n",
      "WLR Recovery Fund IV L.P.\n",
      "WLR IV CLPG L.P.\n",
      "Walkers Corporate Services Limited, Walker House, 87 Mary Street, George Town; KY1-9005, Grand Cayman; Cayman Islands\n",
      "Taiyo Greater India Fund GP Ltd.\n",
      "Clifton House; 75 Fort Street; Grand Cayman KY1-1108; Cayman Islands\n",
      "Dynap Management Ltd\n",
      "DYNap Fund SPC\n",
      "Clifton House; 75 Fort Street; Grand Cayman KY1-1108; Cayman Islands\n",
      "Seville Holdings Ltd.\n",
      "Coller International Partners IV-FD, L.P.\n",
      "OGP IV (Caymans), Ltd.\n",
      "AEI\n",
      "Ghada A. Alireza Company, Ltd.\n",
      "Offshore, Design & Contracting Ltd. ** INCOMPLETE **\n",
      "ADAMAS INVESTMENTS LTD.\n",
      "GRANITE HOLDINGS LTD.\n",
      "Coller International General Partner IV, L.P.\n",
      "Coller International Partners IV-E, L.P.\n",
      "WEST BAY BEACH HOLDINGS\n"
     ]
    }
   ],
   "source": [
    "with driver.session(database=\"neo4j\") as session:\n",
    "    results = session.read_transaction(\n",
    "        lambda tx: tx.run(cypher_query,\n",
    "                      name=\"Ross, Jr. - Wilbur Louis\").data())\n",
    "    print(len(results))\n",
    "    for record in results:\n",
    "        print(record['name'])\n",
    "\n",
    "driver.close()"
   ]
  },
  {
   "cell_type": "markdown",
   "metadata": {},
   "source": [
    "### New examples"
   ]
  },
  {
   "cell_type": "code",
   "execution_count": 5,
   "metadata": {},
   "outputs": [],
   "source": [
    "cypher_query2 = '''\n",
    "MATCH p=()-[r:officer_of]->() RETURN p LIMIT 25\n",
    "'''"
   ]
  },
  {
   "cell_type": "code",
   "execution_count": 26,
   "metadata": {},
   "outputs": [],
   "source": [
    "with driver.session(database=\"neo4j\") as session:\n",
    "    results = session.run(cypher_query2)\n",
    "\n",
    "    final = []\n",
    "    #print(results)\n",
    "    for record in results:\n",
    "        # gets the value of the record\n",
    "        final.append(record.values()[0])\n",
    "        #print(record.values())\n",
    "        \n",
    "        \n",
    "\n",
    "driver.close()"
   ]
  },
  {
   "cell_type": "code",
   "execution_count": 75,
   "metadata": {},
   "outputs": [
    {
     "data": {
      "text/plain": [
       "neo4j.graph.Path"
      ]
     },
     "execution_count": 75,
     "metadata": {},
     "output_type": "execute_result"
    }
   ],
   "source": [
    "y = final[0]\n",
    "# gets the first node and it is a Path object\n",
    "type(y)"
   ]
  },
  {
   "cell_type": "code",
   "execution_count": 76,
   "metadata": {},
   "outputs": [
    {
     "data": {
      "text/plain": [
       "(<Node id=228598 labels=frozenset({'Officer'}) properties={'sourceID': 'Panama Papers', 'lastEditTimestamp': '1638311034062', 'valid_until': 'The Panama Papers data is current through 2015', 'name': 'KIM SOO IN', 'icij_id': 'E72326DEA50F1A9C2876E112AAEB42BC', 'country_codes': 'KOR', 'countries': 'South Korea', 'node_id': 12000001}>,\n",
       " <Node id=74508 labels=frozenset({'Entity'}) properties={'sourceID': 'Panama Papers', 'address': 'MR WALTER KIM; ESQ. \\t CO RODI & POLLOCK  444 SOUTH FLOWER STREET; SUITE 1700  LOS ANGELES; CA 90071  U.S.A.', 'internal_id': '520074', 'jurisdiction': 'BVI', 'struck_off_date': '31-OCT-2007', 'service_provider': 'Mossack Fonseca', 'countries': 'United States', 'jurisdiction_description': 'British Virgin Islands', 'lastEditTimestamp': '1638311021758', 'valid_until': 'The Panama Papers data is current through 2015', 'ibcRUC': '211317', 'original_name': 'TOPSON MARK LIMITED', 'name': 'TOPSON MARK LIMITED', 'country_codes': 'USA', 'inactivation_date': '01-NOV-2007', 'incorporation_date': '02-JAN-1997', 'status': 'Defaulted', 'node_id': 10073324}>)"
      ]
     },
     "execution_count": 76,
     "metadata": {},
     "output_type": "execute_result"
    }
   ],
   "source": [
    "# has two nodes\n",
    "y.nodes"
   ]
  },
  {
   "cell_type": "code",
   "execution_count": 77,
   "metadata": {},
   "outputs": [
    {
     "name": "stdout",
     "output_type": "stream",
     "text": [
      "Node #1\n",
      "Officer\n",
      "KIM SOO IN\n",
      "KOR\n",
      "---------------------\n",
      "Node #2\n",
      "Entity\n",
      "TOPSON MARK LIMITED\n",
      "USA\n",
      "---------------------\n"
     ]
    }
   ],
   "source": [
    "i = 0\n",
    "for n in y.nodes:\n",
    "    # gets each item in the node \n",
    "    i += 1\n",
    "    print(\"Node #{0}\".format(i))\n",
    "    # node type\n",
    "    print(tuple(n.labels)[0])\n",
    "    print(n[\"name\"])\n",
    "    print(n[\"country_codes\"])\n",
    "    print(\"---------------------\")\n",
    "    "
   ]
  },
  {
   "cell_type": "code",
   "execution_count": 47,
   "metadata": {},
   "outputs": [
    {
     "data": {
      "text/plain": [
       "'Officer'"
      ]
     },
     "execution_count": 47,
     "metadata": {},
     "output_type": "execute_result"
    }
   ],
   "source": [
    "tuple(y.nodes[0].labels)[0] # grabs the node type"
   ]
  },
  {
   "cell_type": "code",
   "execution_count": null,
   "metadata": {},
   "outputs": [],
   "source": []
  },
  {
   "cell_type": "markdown",
   "metadata": {},
   "source": [
    "### Script to convert query to CSV format"
   ]
  },
  {
   "cell_type": "code",
   "execution_count": 5,
   "metadata": {},
   "outputs": [],
   "source": [
    "script_query = \"MATCH (o:Officer) WHERE size( (o)--() ) > 100 MATCH (o)-[connection]-(e:Entity) RETURN o.name as Officer, type(connection) as relationship, head(labels(e)) as type, count(*) as count ORDER BY count DESC LIMIT 20\""
   ]
  },
  {
   "cell_type": "code",
   "execution_count": 6,
   "metadata": {},
   "outputs": [],
   "source": [
    "def neotocsv(filename, query):\n",
    "    with driver.session(database=\"neo4j\") as session:\n",
    "        results = session.run(query)\n",
    "\n",
    "        # allows to put header for csv\n",
    "        i = 0\n",
    "        #final = []\n",
    "        file = \"data/\"+filename\n",
    "        with open(file, \"w+\") as f:\n",
    "\n",
    "            for record in results:\n",
    "\n",
    "                # write header keys\n",
    "                if i == 0:\n",
    "                    i += 1\n",
    "                    head = \"\"\n",
    "\n",
    "                    for k in record.keys():\n",
    "                        k = str(k).replace(\",\",\"\")\n",
    "                        head += k + \",\"\n",
    "                    \n",
    "                    lastCommaIndex = head.rfind(\",\")\n",
    "                    newHead = head[:lastCommaIndex] + \"\\n\"\n",
    "                    f.write(newHead)\n",
    "\n",
    "                # addes data to CSV\n",
    "                data = \"\"\n",
    "                for v in record.values():\n",
    "                    v = str(v).replace(\",\",\"\")\n",
    "                    data += str(v) + \",\"\n",
    "\n",
    "                lastCommaIndex = data.rfind(\",\")\n",
    "                newData = data[:lastCommaIndex] + \"\\n\"\n",
    "                f.write(newData)\n",
    "                \n",
    "                #final.append(record.values()[0])\n",
    "                \n",
    "                \n",
    "            \n",
    "\n",
    "    driver.close()"
   ]
  },
  {
   "cell_type": "code",
   "execution_count": 3,
   "metadata": {},
   "outputs": [],
   "source": [
    "from qtocsv import neotocsv"
   ]
  },
  {
   "cell_type": "code",
   "execution_count": 7,
   "metadata": {},
   "outputs": [],
   "source": [
    "neotocsv(\"test2.csv\",script_query,driver)"
   ]
  },
  {
   "cell_type": "markdown",
   "metadata": {},
   "source": [
    "# QUERY FOR BEAR SHARES\n",
    "CALL gds.pageRank.stream({nodeProjection:'*',relationshipProjection:'*'}) YIELD nodeId, score WITH gds.util.asNode(nodeId) as node, score WHERE node:Officer AND node.sourceID STARTS WITH \"Pandora Papers\" WITH * ORDER BY score DESC LIMIT 10 MATCH ()<-[r:officer_of]-(o:Officer) RETURN o.name, count(o) AS count, r.link as relationship ORDER BY count DESC"
   ]
  },
  {
   "cell_type": "code",
   "execution_count": null,
   "metadata": {},
   "outputs": [],
   "source": []
  }
 ],
 "metadata": {
  "interpreter": {
   "hash": "472f3460692ba2c0861145e5e150d03c8a5c0e40e057944a047c431b9050b93d"
  },
  "kernelspec": {
   "display_name": "Python 3.7.6 64-bit ('base': conda)",
   "language": "python",
   "name": "python3"
  },
  "language_info": {
   "codemirror_mode": {
    "name": "ipython",
    "version": 3
   },
   "file_extension": ".py",
   "mimetype": "text/x-python",
   "name": "python",
   "nbconvert_exporter": "python",
   "pygments_lexer": "ipython3",
   "version": "3.7.6"
  },
  "orig_nbformat": 4
 },
 "nbformat": 4,
 "nbformat_minor": 2
}
