{
 "cells": [
  {
   "cell_type": "code",
   "execution_count": 4,
   "metadata": {},
   "outputs": [],
   "source": [
    "from neo4j import GraphDatabase, basic_auth\n",
    "import pandas as pd"
   ]
  },
  {
   "cell_type": "code",
   "execution_count": 5,
   "metadata": {},
   "outputs": [],
   "source": [
    "# launch neoj4 browser and start an instance of the database\n",
    "driver = GraphDatabase.driver(\n",
    "  \"bolt://localhost:7687\",\n",
    "  auth=basic_auth(\"neo4j\", \"alex\"))\n"
   ]
  },
  {
   "cell_type": "markdown",
   "metadata": {},
   "source": [
    "### Github example Query"
   ]
  },
  {
   "cell_type": "code",
   "execution_count": 3,
   "metadata": {},
   "outputs": [],
   "source": [
    "cypher_query = '''\n",
    "MATCH (a:Officer {name:$name})-[r:officer_of|intermediary_of|registered_address*..10]-(b)\n",
    "RETURN b.name as name LIMIT 20\n",
    "'''"
   ]
  },
  {
   "cell_type": "code",
   "execution_count": 4,
   "metadata": {},
   "outputs": [
    {
     "name": "stdout",
     "output_type": "stream",
     "text": [
      "20\n",
      "WL Ross & Co. LLC; 1166 Avenue of the Americas; 25th Floor; New York New York  11036; United States of America\n",
      "WLR Recovery Fund IV L.P.\n",
      "WLR IV CLPG L.P.\n",
      "Walkers Corporate Services Limited, Walker House, 87 Mary Street, George Town; KY1-9005, Grand Cayman; Cayman Islands\n",
      "Taiyo Greater India Fund GP Ltd.\n",
      "Clifton House; 75 Fort Street; Grand Cayman KY1-1108; Cayman Islands\n",
      "Dynap Management Ltd\n",
      "DYNap Fund SPC\n",
      "Clifton House; 75 Fort Street; Grand Cayman KY1-1108; Cayman Islands\n",
      "Seville Holdings Ltd.\n",
      "Coller International Partners IV-FD, L.P.\n",
      "OGP IV (Caymans), Ltd.\n",
      "AEI\n",
      "Ghada A. Alireza Company, Ltd.\n",
      "Offshore, Design & Contracting Ltd. ** INCOMPLETE **\n",
      "ADAMAS INVESTMENTS LTD.\n",
      "GRANITE HOLDINGS LTD.\n",
      "Coller International General Partner IV, L.P.\n",
      "Coller International Partners IV-E, L.P.\n",
      "WEST BAY BEACH HOLDINGS\n"
     ]
    }
   ],
   "source": [
    "with driver.session(database=\"neo4j\") as session:\n",
    "    results = session.read_transaction(\n",
    "        lambda tx: tx.run(cypher_query,\n",
    "                      name=\"Ross, Jr. - Wilbur Louis\").data())\n",
    "    print(len(results))\n",
    "    for record in results:\n",
    "        print(record['name'])\n",
    "\n",
    "driver.close()"
   ]
  },
  {
   "cell_type": "markdown",
   "metadata": {},
   "source": [
    "### New examples"
   ]
  },
  {
   "cell_type": "code",
   "execution_count": 5,
   "metadata": {},
   "outputs": [],
   "source": [
    "cypher_query2 = '''\n",
    "MATCH p=()-[r:officer_of]->() RETURN p LIMIT 25\n",
    "'''"
   ]
  },
  {
   "cell_type": "code",
   "execution_count": 26,
   "metadata": {},
   "outputs": [],
   "source": [
    "with driver.session(database=\"neo4j\") as session:\n",
    "    results = session.run(cypher_query2)\n",
    "\n",
    "    final = []\n",
    "    #print(results)\n",
    "    for record in results:\n",
    "        # gets the value of the record\n",
    "        final.append(record.values()[0])\n",
    "        #print(record.values())\n",
    "        \n",
    "        \n",
    "\n",
    "driver.close()"
   ]
  },
  {
   "cell_type": "code",
   "execution_count": 75,
   "metadata": {},
   "outputs": [
    {
     "data": {
      "text/plain": [
       "neo4j.graph.Path"
      ]
     },
     "execution_count": 75,
     "metadata": {},
     "output_type": "execute_result"
    }
   ],
   "source": [
    "y = final[0]\n",
    "# gets the first node and it is a Path object\n",
    "type(y)"
   ]
  },
  {
   "cell_type": "code",
   "execution_count": 76,
   "metadata": {},
   "outputs": [
    {
     "data": {
      "text/plain": [
       "(<Node id=228598 labels=frozenset({'Officer'}) properties={'sourceID': 'Panama Papers', 'lastEditTimestamp': '1638311034062', 'valid_until': 'The Panama Papers data is current through 2015', 'name': 'KIM SOO IN', 'icij_id': 'E72326DEA50F1A9C2876E112AAEB42BC', 'country_codes': 'KOR', 'countries': 'South Korea', 'node_id': 12000001}>,\n",
       " <Node id=74508 labels=frozenset({'Entity'}) properties={'sourceID': 'Panama Papers', 'address': 'MR WALTER KIM; ESQ. \\t CO RODI & POLLOCK  444 SOUTH FLOWER STREET; SUITE 1700  LOS ANGELES; CA 90071  U.S.A.', 'internal_id': '520074', 'jurisdiction': 'BVI', 'struck_off_date': '31-OCT-2007', 'service_provider': 'Mossack Fonseca', 'countries': 'United States', 'jurisdiction_description': 'British Virgin Islands', 'lastEditTimestamp': '1638311021758', 'valid_until': 'The Panama Papers data is current through 2015', 'ibcRUC': '211317', 'original_name': 'TOPSON MARK LIMITED', 'name': 'TOPSON MARK LIMITED', 'country_codes': 'USA', 'inactivation_date': '01-NOV-2007', 'incorporation_date': '02-JAN-1997', 'status': 'Defaulted', 'node_id': 10073324}>)"
      ]
     },
     "execution_count": 76,
     "metadata": {},
     "output_type": "execute_result"
    }
   ],
   "source": [
    "# has two nodes\n",
    "y.nodes"
   ]
  },
  {
   "cell_type": "code",
   "execution_count": 77,
   "metadata": {},
   "outputs": [
    {
     "name": "stdout",
     "output_type": "stream",
     "text": [
      "Node #1\n",
      "Officer\n",
      "KIM SOO IN\n",
      "KOR\n",
      "---------------------\n",
      "Node #2\n",
      "Entity\n",
      "TOPSON MARK LIMITED\n",
      "USA\n",
      "---------------------\n"
     ]
    }
   ],
   "source": [
    "i = 0\n",
    "for n in y.nodes:\n",
    "    # gets each item in the node \n",
    "    i += 1\n",
    "    print(\"Node #{0}\".format(i))\n",
    "    # node type\n",
    "    print(tuple(n.labels)[0])\n",
    "    print(n[\"name\"])\n",
    "    print(n[\"country_codes\"])\n",
    "    print(\"---------------------\")\n",
    "    "
   ]
  },
  {
   "cell_type": "code",
   "execution_count": 47,
   "metadata": {},
   "outputs": [
    {
     "data": {
      "text/plain": [
       "'Officer'"
      ]
     },
     "execution_count": 47,
     "metadata": {},
     "output_type": "execute_result"
    }
   ],
   "source": [
    "tuple(y.nodes[0].labels)[0] # grabs the node type"
   ]
  },
  {
   "cell_type": "code",
   "execution_count": null,
   "metadata": {},
   "outputs": [],
   "source": []
  },
  {
   "cell_type": "markdown",
   "metadata": {},
   "source": [
    "### Script to convert query to CSV format"
   ]
  },
  {
   "cell_type": "code",
   "execution_count": 6,
   "metadata": {},
   "outputs": [],
   "source": [
    "script_query = \"MATCH (o:Officer) WHERE size( (o)--() ) > 100 MATCH (o)-[connection]-(e:Entity) RETURN o.name as Officer, type(connection) as relationship, head(labels(e)) as type, count(*) as count ORDER BY count DESC LIMIT 20\""
   ]
  },
  {
   "cell_type": "code",
   "execution_count": 19,
   "metadata": {},
   "outputs": [
    {
     "name": "stdout",
     "output_type": "stream",
     "text": [
      "['Portcullis TrustNet (BVI) Limited', 'officer_of', 'Entity', 36335]\n",
      "['Portcullis TrustNet (Samoa) Limited', 'officer_of', 'Entity', 6575]\n",
      "['MOSSFON SUBSCRIBERS LTD.', 'officer_of', 'Entity', 3882]\n",
      "['Reid Services Limited - Cayman', 'officer_of', 'Entity', 3003]\n",
      "['Execorp Limited', 'officer_of', 'Entity', 1998]\n",
      "['Standard Directors Ltd.', 'officer_of', 'Entity', 1993]\n",
      "['UBS AG, Singapore', 'intermediary_of', 'Entity', 1862]\n",
      "['Equity Trust (Samoa) Limited', 'intermediary_of', 'Entity', 1687]\n",
      "['Equity Trust (Samoa) Limited', 'officer_of', 'Entity', 1675]\n",
      "['Sharecorp Limited', 'officer_of', 'Entity', 1644]\n",
      "['PRICEWATERHOUSECOOPERS', 'officer_of', 'Entity', 1634]\n",
      "['ABACUS HOLDINGS LIMITED', 'officer_of', 'Entity', 1608]\n",
      "['Counsell - Timothy J', 'officer_of', 'Entity', 1507]\n",
      "['Acticorp Limited', 'officer_of', 'Entity', 1421]\n",
      "['BDO CONSULT LIMITED', 'officer_of', 'Entity', 1414]\n",
      "['Keyes - James Michael', 'officer_of', 'Entity', 1390]\n",
      "['COMPANY DIRECTORS LTD.', 'officer_of', 'Entity', 1263]\n",
      "['Trustcorp Limited', 'officer_of', 'Entity', 1252]\n",
      "['Faries - Timothy Carrick', 'officer_of', 'Entity', 1204]\n",
      "['CASCADO AG', 'officer_of', 'Entity', 1159]\n"
     ]
    }
   ],
   "source": [
    "with driver.session(database=\"neo4j\") as session:\n",
    "    results = session.run(script_query)\n",
    "\n",
    "    # allows to put header for csv\n",
    "    i = 0\n",
    "    #final = []\n",
    "    \n",
    "    with open(\"data/test.csv\", \"w+\") as f:\n",
    "\n",
    "        for record in results:\n",
    "\n",
    "            # write header keys\n",
    "            if i == 0:\n",
    "                i += 1\n",
    "                head = \"\"\n",
    "\n",
    "                for k in record.keys():\n",
    "                    k = str(k).replace(\",\",\"\")\n",
    "                    head += k + \",\"\n",
    "                \n",
    "                lastCommaIndex = head.rfind(\",\")\n",
    "                newHead = head[:lastCommaIndex] + \"\\n\"\n",
    "                f.write(newHead)\n",
    "\n",
    "            # addes data to CSV\n",
    "            data = \"\"\n",
    "            for v in record.values():\n",
    "                v = str(v).replace(\",\",\"\")\n",
    "                data += str(v) + \",\"\n",
    "\n",
    "            lastCommaIndex = data.rfind(\",\")\n",
    "            newData = data[:lastCommaIndex] + \"\\n\"\n",
    "            f.write(newData)\n",
    "            \n",
    "            #final.append(record.values()[0])\n",
    "            print(record.values())\n",
    "            \n",
    "        \n",
    "\n",
    "driver.close()"
   ]
  },
  {
   "cell_type": "code",
   "execution_count": 22,
   "metadata": {},
   "outputs": [
    {
     "data": {
      "text/html": [
       "<div>\n",
       "<style scoped>\n",
       "    .dataframe tbody tr th:only-of-type {\n",
       "        vertical-align: middle;\n",
       "    }\n",
       "\n",
       "    .dataframe tbody tr th {\n",
       "        vertical-align: top;\n",
       "    }\n",
       "\n",
       "    .dataframe thead th {\n",
       "        text-align: right;\n",
       "    }\n",
       "</style>\n",
       "<table border=\"1\" class=\"dataframe\">\n",
       "  <thead>\n",
       "    <tr style=\"text-align: right;\">\n",
       "      <th></th>\n",
       "      <th>Officer</th>\n",
       "      <th>relationship</th>\n",
       "      <th>type</th>\n",
       "      <th>count</th>\n",
       "    </tr>\n",
       "  </thead>\n",
       "  <tbody>\n",
       "    <tr>\n",
       "      <th>0</th>\n",
       "      <td>Portcullis TrustNet (BVI) Limited</td>\n",
       "      <td>officer_of</td>\n",
       "      <td>Entity</td>\n",
       "      <td>36335</td>\n",
       "    </tr>\n",
       "    <tr>\n",
       "      <th>1</th>\n",
       "      <td>Portcullis TrustNet (Samoa) Limited</td>\n",
       "      <td>officer_of</td>\n",
       "      <td>Entity</td>\n",
       "      <td>6575</td>\n",
       "    </tr>\n",
       "    <tr>\n",
       "      <th>2</th>\n",
       "      <td>MOSSFON SUBSCRIBERS LTD.</td>\n",
       "      <td>officer_of</td>\n",
       "      <td>Entity</td>\n",
       "      <td>3882</td>\n",
       "    </tr>\n",
       "    <tr>\n",
       "      <th>3</th>\n",
       "      <td>Reid Services Limited - Cayman</td>\n",
       "      <td>officer_of</td>\n",
       "      <td>Entity</td>\n",
       "      <td>3003</td>\n",
       "    </tr>\n",
       "    <tr>\n",
       "      <th>4</th>\n",
       "      <td>Execorp Limited</td>\n",
       "      <td>officer_of</td>\n",
       "      <td>Entity</td>\n",
       "      <td>1998</td>\n",
       "    </tr>\n",
       "    <tr>\n",
       "      <th>5</th>\n",
       "      <td>Standard Directors Ltd.</td>\n",
       "      <td>officer_of</td>\n",
       "      <td>Entity</td>\n",
       "      <td>1993</td>\n",
       "    </tr>\n",
       "    <tr>\n",
       "      <th>6</th>\n",
       "      <td>UBS AG Singapore</td>\n",
       "      <td>intermediary_of</td>\n",
       "      <td>Entity</td>\n",
       "      <td>1862</td>\n",
       "    </tr>\n",
       "    <tr>\n",
       "      <th>7</th>\n",
       "      <td>Equity Trust (Samoa) Limited</td>\n",
       "      <td>intermediary_of</td>\n",
       "      <td>Entity</td>\n",
       "      <td>1687</td>\n",
       "    </tr>\n",
       "    <tr>\n",
       "      <th>8</th>\n",
       "      <td>Equity Trust (Samoa) Limited</td>\n",
       "      <td>officer_of</td>\n",
       "      <td>Entity</td>\n",
       "      <td>1675</td>\n",
       "    </tr>\n",
       "    <tr>\n",
       "      <th>9</th>\n",
       "      <td>Sharecorp Limited</td>\n",
       "      <td>officer_of</td>\n",
       "      <td>Entity</td>\n",
       "      <td>1644</td>\n",
       "    </tr>\n",
       "    <tr>\n",
       "      <th>10</th>\n",
       "      <td>PRICEWATERHOUSECOOPERS</td>\n",
       "      <td>officer_of</td>\n",
       "      <td>Entity</td>\n",
       "      <td>1634</td>\n",
       "    </tr>\n",
       "    <tr>\n",
       "      <th>11</th>\n",
       "      <td>ABACUS HOLDINGS LIMITED</td>\n",
       "      <td>officer_of</td>\n",
       "      <td>Entity</td>\n",
       "      <td>1608</td>\n",
       "    </tr>\n",
       "    <tr>\n",
       "      <th>12</th>\n",
       "      <td>Counsell - Timothy J</td>\n",
       "      <td>officer_of</td>\n",
       "      <td>Entity</td>\n",
       "      <td>1507</td>\n",
       "    </tr>\n",
       "    <tr>\n",
       "      <th>13</th>\n",
       "      <td>Acticorp Limited</td>\n",
       "      <td>officer_of</td>\n",
       "      <td>Entity</td>\n",
       "      <td>1421</td>\n",
       "    </tr>\n",
       "    <tr>\n",
       "      <th>14</th>\n",
       "      <td>BDO CONSULT LIMITED</td>\n",
       "      <td>officer_of</td>\n",
       "      <td>Entity</td>\n",
       "      <td>1414</td>\n",
       "    </tr>\n",
       "    <tr>\n",
       "      <th>15</th>\n",
       "      <td>Keyes - James Michael</td>\n",
       "      <td>officer_of</td>\n",
       "      <td>Entity</td>\n",
       "      <td>1390</td>\n",
       "    </tr>\n",
       "    <tr>\n",
       "      <th>16</th>\n",
       "      <td>COMPANY DIRECTORS LTD.</td>\n",
       "      <td>officer_of</td>\n",
       "      <td>Entity</td>\n",
       "      <td>1263</td>\n",
       "    </tr>\n",
       "    <tr>\n",
       "      <th>17</th>\n",
       "      <td>Trustcorp Limited</td>\n",
       "      <td>officer_of</td>\n",
       "      <td>Entity</td>\n",
       "      <td>1252</td>\n",
       "    </tr>\n",
       "    <tr>\n",
       "      <th>18</th>\n",
       "      <td>Faries - Timothy Carrick</td>\n",
       "      <td>officer_of</td>\n",
       "      <td>Entity</td>\n",
       "      <td>1204</td>\n",
       "    </tr>\n",
       "    <tr>\n",
       "      <th>19</th>\n",
       "      <td>CASCADO AG</td>\n",
       "      <td>officer_of</td>\n",
       "      <td>Entity</td>\n",
       "      <td>1159</td>\n",
       "    </tr>\n",
       "  </tbody>\n",
       "</table>\n",
       "</div>"
      ],
      "text/plain": [
       "                                Officer     relationship    type  count\n",
       "0     Portcullis TrustNet (BVI) Limited       officer_of  Entity  36335\n",
       "1   Portcullis TrustNet (Samoa) Limited       officer_of  Entity   6575\n",
       "2              MOSSFON SUBSCRIBERS LTD.       officer_of  Entity   3882\n",
       "3        Reid Services Limited - Cayman       officer_of  Entity   3003\n",
       "4                       Execorp Limited       officer_of  Entity   1998\n",
       "5               Standard Directors Ltd.       officer_of  Entity   1993\n",
       "6                      UBS AG Singapore  intermediary_of  Entity   1862\n",
       "7          Equity Trust (Samoa) Limited  intermediary_of  Entity   1687\n",
       "8          Equity Trust (Samoa) Limited       officer_of  Entity   1675\n",
       "9                     Sharecorp Limited       officer_of  Entity   1644\n",
       "10               PRICEWATERHOUSECOOPERS       officer_of  Entity   1634\n",
       "11              ABACUS HOLDINGS LIMITED       officer_of  Entity   1608\n",
       "12                 Counsell - Timothy J       officer_of  Entity   1507\n",
       "13                     Acticorp Limited       officer_of  Entity   1421\n",
       "14                  BDO CONSULT LIMITED       officer_of  Entity   1414\n",
       "15                Keyes - James Michael       officer_of  Entity   1390\n",
       "16               COMPANY DIRECTORS LTD.       officer_of  Entity   1263\n",
       "17                    Trustcorp Limited       officer_of  Entity   1252\n",
       "18             Faries - Timothy Carrick       officer_of  Entity   1204\n",
       "19                           CASCADO AG       officer_of  Entity   1159"
      ]
     },
     "execution_count": 22,
     "metadata": {},
     "output_type": "execute_result"
    }
   ],
   "source": [
    "pd.read_csv(\"data/test.csv\")"
   ]
  },
  {
   "cell_type": "code",
   "execution_count": null,
   "metadata": {},
   "outputs": [],
   "source": []
  }
 ],
 "metadata": {
  "interpreter": {
   "hash": "472f3460692ba2c0861145e5e150d03c8a5c0e40e057944a047c431b9050b93d"
  },
  "kernelspec": {
   "display_name": "Python 3.7.6 64-bit ('base': conda)",
   "language": "python",
   "name": "python3"
  },
  "language_info": {
   "codemirror_mode": {
    "name": "ipython",
    "version": 3
   },
   "file_extension": ".py",
   "mimetype": "text/x-python",
   "name": "python",
   "nbconvert_exporter": "python",
   "pygments_lexer": "ipython3",
   "version": "3.8.3"
  },
  "orig_nbformat": 4
 },
 "nbformat": 4,
 "nbformat_minor": 2
}
