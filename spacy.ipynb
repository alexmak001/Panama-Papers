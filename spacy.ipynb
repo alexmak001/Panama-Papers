{
 "cells": [
  {
   "cell_type": "code",
   "execution_count": 1,
   "metadata": {},
   "outputs": [],
   "source": [
    "import spacy\n",
    "from spacytextblob.spacytextblob import SpacyTextBlob"
   ]
  },
  {
   "cell_type": "code",
   "execution_count": 2,
   "metadata": {},
   "outputs": [
    {
     "data": {
      "text/plain": [
       "<spacytextblob.spacytextblob.SpacyTextBlob at 0x7fc2707d1ca0>"
      ]
     },
     "execution_count": 2,
     "metadata": {},
     "output_type": "execute_result"
    }
   ],
   "source": [
    "nlp = spacy.load('en_core_web_sm')\n",
    "nlp.add_pipe('spacytextblob')"
   ]
  },
  {
   "cell_type": "code",
   "execution_count": 3,
   "metadata": {},
   "outputs": [
    {
     "data": {
      "text/plain": [
       "0.06746031746031747"
      ]
     },
     "execution_count": 3,
     "metadata": {},
     "output_type": "execute_result"
    }
   ],
   "source": [
    "text = '''\n",
    "(CNN)Access to three border crossings in Michigan, North Dakota and Montana have been cut off by truckers and like-minded demonstrators on the Canadian side of the border who are protesting Covid-related restrictions.\n",
    "\n",
    "To address the ongoing issue, the Canadian government announced Thursday it would send additional officers and resources to protests throughout the country.\n",
    "\"The plan is to make sure police have all the resources they need,\" said Marco Mendicino, the public safety minister. \"Our top priority is to make sure that these illegal blockades end.\"\n",
    "For two weeks now, the trucks have blockaded the downtown core of Ottawa, the capital of Canada. In recent days, demonstrators have parked their bulky vehicles in the middle of critical roadways between Canada and the US.\n",
    "Thursday marked the fourth day protesters impeded access to the Ambassador Bridge, which connects Detroit and Windsor -- the busiest international crossing in North America. Second, a mix of semi-trailers and farm equipment shut down the border crossing connecting Emerson, Manitoba, and Pembina, North Dakota, according to the Royal Canadian Mounted Police in Manitoba. And third, the Coutts access point between Alberta and Montana has also been blocked.\n",
    "'''\n",
    "nlp(text)._.polarity"
   ]
  },
  {
   "cell_type": "code",
   "execution_count": null,
   "metadata": {},
   "outputs": [],
   "source": []
  }
 ],
 "metadata": {
  "interpreter": {
   "hash": "aee8b7b246df8f9039afb4144a1f6fd8d2ca17a180786b69acc140d282b71a49"
  },
  "kernelspec": {
   "display_name": "Python 3.9.7 64-bit",
   "language": "python",
   "name": "python3"
  },
  "language_info": {
   "codemirror_mode": {
    "name": "ipython",
    "version": 3
   },
   "file_extension": ".py",
   "mimetype": "text/x-python",
   "name": "python",
   "nbconvert_exporter": "python",
   "pygments_lexer": "ipython3",
   "version": "3.8.5"
  },
  "orig_nbformat": 4
 },
 "nbformat": 4,
 "nbformat_minor": 2
}
