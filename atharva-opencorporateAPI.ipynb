{
 "cells": [
  {
   "cell_type": "code",
   "execution_count": 1,
   "metadata": {},
   "outputs": [],
   "source": [
    "import requests"
   ]
  },
  {
   "cell_type": "markdown",
   "metadata": {},
   "source": [
    "### Use Open Corporates API to get the info for a specific company"
   ]
  },
  {
   "cell_type": "code",
   "execution_count": 67,
   "metadata": {},
   "outputs": [
    {
     "name": "stdout",
     "output_type": "stream",
     "text": [
      "200\n"
     ]
    }
   ],
   "source": [
    "company_url = 'https://api.opencorporates.com/v0.4/companies/search'\n",
    "\n",
    "# Set up parameters\n",
    "data_params = {\n",
    "    'q':'CERNIGHT MANAGEMENT'\n",
    "}\n",
    "\n",
    "# Perform and process get request\n",
    "r = requests.get(url = company_url, params=data_params)\n",
    "# print(r.status_code)\n",
    "\n",
    "company_data = r.json()\n"
   ]
  },
  {
   "cell_type": "code",
   "execution_count": 106,
   "metadata": {},
   "outputs": [
    {
     "data": {
      "text/plain": [
       "True"
      ]
     },
     "execution_count": 106,
     "metadata": {},
     "output_type": "execute_result"
    }
   ],
   "source": [
    "company_data['results']['companies'][0]['company']['inactive']\n"
   ]
  },
  {
   "cell_type": "code",
   "execution_count": 93,
   "metadata": {},
   "outputs": [],
   "source": [
    "\n",
    "# # Set up token and URL\n",
    "# # api_token = \n",
    "# search_url = 'https://api.opencorporates.com/v0.4/companies/search'\n",
    "\n",
    "# # Set up parameters\n",
    "# country_code = 'bm'\n",
    "# date_range = '1995-01-01:2000-01-01'\n",
    "\n",
    "# data_params = {\n",
    "#     # 'api_token':api_token,\n",
    "#     'incorporation_date':date_range,\n",
    "#     'jurisdiction_code':country_code\n",
    "# }\n",
    "\n",
    "# # Perform and process get request\n",
    "# r = requests.get(url = search_url, params=data_params)\n",
    "# print(r.status_code)\n",
    "\n",
    "# data = r.json()\n",
    "# data"
   ]
  },
  {
   "cell_type": "code",
   "execution_count": null,
   "metadata": {},
   "outputs": [],
   "source": []
  }
 ],
 "metadata": {
  "interpreter": {
   "hash": "d7f89f024528c4ae6391ddedea7fab95722542ce84d5356ba697026f610b5afa"
  },
  "kernelspec": {
   "display_name": "Python 3.8.5 ('base')",
   "language": "python",
   "name": "python3"
  },
  "language_info": {
   "codemirror_mode": {
    "name": "ipython",
    "version": 3
   },
   "file_extension": ".py",
   "mimetype": "text/x-python",
   "name": "python",
   "nbconvert_exporter": "python",
   "pygments_lexer": "ipython3",
   "version": "3.9.7"
  },
  "orig_nbformat": 4
 },
 "nbformat": 4,
 "nbformat_minor": 2
}
