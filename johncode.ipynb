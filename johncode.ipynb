{
 "cells": [
  {
   "cell_type": "code",
   "execution_count": 21,
   "metadata": {},
   "outputs": [],
   "source": [
    "from neo4j import GraphDatabase, basic_auth\n",
    "\n",
    "driver = GraphDatabase.driver(\n",
    "  \"bolt://localhost:7687\",\n",
    "  auth=basic_auth(\"neo4j\", \"password\"))\n"
   ]
  },
  {
   "cell_type": "code",
   "execution_count": 3,
   "metadata": {},
   "outputs": [],
   "source": [
    "import pandas as pd\n",
    "import numpy as np\n",
    "import matplotlib.pyplot as plt\n",
    "import seaborn as sns"
   ]
  },
  {
   "cell_type": "markdown",
   "metadata": {},
   "source": [
    "Direct Bearer shares vs CPI score \n"
   ]
  },
  {
   "cell_type": "code",
   "execution_count": 4,
   "metadata": {},
   "outputs": [
    {
     "ename": "FileNotFoundError",
     "evalue": "[Errno 2] No such file or directory: 'data/centrality_score.csv'",
     "output_type": "error",
     "traceback": [
      "\u001b[1;31m---------------------------------------------------------------------------\u001b[0m",
      "\u001b[1;31mFileNotFoundError\u001b[0m                         Traceback (most recent call last)",
      "\u001b[1;32m~\\AppData\\Local\\Temp/ipykernel_27984/4067868504.py\u001b[0m in \u001b[0;36m<module>\u001b[1;34m\u001b[0m\n\u001b[0;32m      1\u001b[0m \u001b[0mnum_bear\u001b[0m \u001b[1;33m=\u001b[0m \u001b[0mpd\u001b[0m\u001b[1;33m.\u001b[0m\u001b[0mread_csv\u001b[0m\u001b[1;33m(\u001b[0m\u001b[1;34m'data/num_bear_plus_country.csv'\u001b[0m\u001b[1;33m)\u001b[0m\u001b[1;33m\u001b[0m\u001b[1;33m\u001b[0m\u001b[0m\n\u001b[0;32m      2\u001b[0m \u001b[0mcpi\u001b[0m \u001b[1;33m=\u001b[0m \u001b[0mpd\u001b[0m\u001b[1;33m.\u001b[0m\u001b[0mread_csv\u001b[0m\u001b[1;33m(\u001b[0m\u001b[1;34m'data/cpi2015.csv'\u001b[0m\u001b[1;33m)\u001b[0m\u001b[1;33m\u001b[0m\u001b[1;33m\u001b[0m\u001b[0m\n\u001b[1;32m----> 3\u001b[1;33m \u001b[0mcentrality\u001b[0m \u001b[1;33m=\u001b[0m \u001b[0mpd\u001b[0m\u001b[1;33m.\u001b[0m\u001b[0mread_csv\u001b[0m\u001b[1;33m(\u001b[0m\u001b[1;34m'data/centrality_score.csv'\u001b[0m\u001b[1;33m)\u001b[0m\u001b[1;33m\u001b[0m\u001b[1;33m\u001b[0m\u001b[0m\n\u001b[0m\u001b[0;32m      4\u001b[0m \u001b[0mprint\u001b[0m\u001b[1;33m(\u001b[0m\u001b[0mnum_bear\u001b[0m\u001b[1;33m.\u001b[0m\u001b[0mshape\u001b[0m\u001b[1;33m[\u001b[0m\u001b[1;36m0\u001b[0m\u001b[1;33m]\u001b[0m\u001b[1;33m)\u001b[0m\u001b[1;33m\u001b[0m\u001b[1;33m\u001b[0m\u001b[0m\n\u001b[0;32m      5\u001b[0m \u001b[0mprint\u001b[0m\u001b[1;33m(\u001b[0m\u001b[0mcpi\u001b[0m\u001b[1;33m.\u001b[0m\u001b[0mshape\u001b[0m\u001b[1;33m[\u001b[0m\u001b[1;36m0\u001b[0m\u001b[1;33m]\u001b[0m\u001b[1;33m)\u001b[0m\u001b[1;33m\u001b[0m\u001b[1;33m\u001b[0m\u001b[0m\n",
      "\u001b[1;32m~\\AppData\\Local\\Packages\\PythonSoftwareFoundation.Python.3.9_qbz5n2kfra8p0\\LocalCache\\local-packages\\Python39\\site-packages\\pandas\\util\\_decorators.py\u001b[0m in \u001b[0;36mwrapper\u001b[1;34m(*args, **kwargs)\u001b[0m\n\u001b[0;32m    309\u001b[0m                     \u001b[0mstacklevel\u001b[0m\u001b[1;33m=\u001b[0m\u001b[0mstacklevel\u001b[0m\u001b[1;33m,\u001b[0m\u001b[1;33m\u001b[0m\u001b[1;33m\u001b[0m\u001b[0m\n\u001b[0;32m    310\u001b[0m                 )\n\u001b[1;32m--> 311\u001b[1;33m             \u001b[1;32mreturn\u001b[0m \u001b[0mfunc\u001b[0m\u001b[1;33m(\u001b[0m\u001b[1;33m*\u001b[0m\u001b[0margs\u001b[0m\u001b[1;33m,\u001b[0m \u001b[1;33m**\u001b[0m\u001b[0mkwargs\u001b[0m\u001b[1;33m)\u001b[0m\u001b[1;33m\u001b[0m\u001b[1;33m\u001b[0m\u001b[0m\n\u001b[0m\u001b[0;32m    312\u001b[0m \u001b[1;33m\u001b[0m\u001b[0m\n\u001b[0;32m    313\u001b[0m         \u001b[1;32mreturn\u001b[0m \u001b[0mwrapper\u001b[0m\u001b[1;33m\u001b[0m\u001b[1;33m\u001b[0m\u001b[0m\n",
      "\u001b[1;32m~\\AppData\\Local\\Packages\\PythonSoftwareFoundation.Python.3.9_qbz5n2kfra8p0\\LocalCache\\local-packages\\Python39\\site-packages\\pandas\\io\\parsers\\readers.py\u001b[0m in \u001b[0;36mread_csv\u001b[1;34m(filepath_or_buffer, sep, delimiter, header, names, index_col, usecols, squeeze, prefix, mangle_dupe_cols, dtype, engine, converters, true_values, false_values, skipinitialspace, skiprows, skipfooter, nrows, na_values, keep_default_na, na_filter, verbose, skip_blank_lines, parse_dates, infer_datetime_format, keep_date_col, date_parser, dayfirst, cache_dates, iterator, chunksize, compression, thousands, decimal, lineterminator, quotechar, quoting, doublequote, escapechar, comment, encoding, encoding_errors, dialect, error_bad_lines, warn_bad_lines, on_bad_lines, delim_whitespace, low_memory, memory_map, float_precision, storage_options)\u001b[0m\n\u001b[0;32m    584\u001b[0m     \u001b[0mkwds\u001b[0m\u001b[1;33m.\u001b[0m\u001b[0mupdate\u001b[0m\u001b[1;33m(\u001b[0m\u001b[0mkwds_defaults\u001b[0m\u001b[1;33m)\u001b[0m\u001b[1;33m\u001b[0m\u001b[1;33m\u001b[0m\u001b[0m\n\u001b[0;32m    585\u001b[0m \u001b[1;33m\u001b[0m\u001b[0m\n\u001b[1;32m--> 586\u001b[1;33m     \u001b[1;32mreturn\u001b[0m \u001b[0m_read\u001b[0m\u001b[1;33m(\u001b[0m\u001b[0mfilepath_or_buffer\u001b[0m\u001b[1;33m,\u001b[0m \u001b[0mkwds\u001b[0m\u001b[1;33m)\u001b[0m\u001b[1;33m\u001b[0m\u001b[1;33m\u001b[0m\u001b[0m\n\u001b[0m\u001b[0;32m    587\u001b[0m \u001b[1;33m\u001b[0m\u001b[0m\n\u001b[0;32m    588\u001b[0m \u001b[1;33m\u001b[0m\u001b[0m\n",
      "\u001b[1;32m~\\AppData\\Local\\Packages\\PythonSoftwareFoundation.Python.3.9_qbz5n2kfra8p0\\LocalCache\\local-packages\\Python39\\site-packages\\pandas\\io\\parsers\\readers.py\u001b[0m in \u001b[0;36m_read\u001b[1;34m(filepath_or_buffer, kwds)\u001b[0m\n\u001b[0;32m    480\u001b[0m \u001b[1;33m\u001b[0m\u001b[0m\n\u001b[0;32m    481\u001b[0m     \u001b[1;31m# Create the parser.\u001b[0m\u001b[1;33m\u001b[0m\u001b[1;33m\u001b[0m\u001b[0m\n\u001b[1;32m--> 482\u001b[1;33m     \u001b[0mparser\u001b[0m \u001b[1;33m=\u001b[0m \u001b[0mTextFileReader\u001b[0m\u001b[1;33m(\u001b[0m\u001b[0mfilepath_or_buffer\u001b[0m\u001b[1;33m,\u001b[0m \u001b[1;33m**\u001b[0m\u001b[0mkwds\u001b[0m\u001b[1;33m)\u001b[0m\u001b[1;33m\u001b[0m\u001b[1;33m\u001b[0m\u001b[0m\n\u001b[0m\u001b[0;32m    483\u001b[0m \u001b[1;33m\u001b[0m\u001b[0m\n\u001b[0;32m    484\u001b[0m     \u001b[1;32mif\u001b[0m \u001b[0mchunksize\u001b[0m \u001b[1;32mor\u001b[0m \u001b[0miterator\u001b[0m\u001b[1;33m:\u001b[0m\u001b[1;33m\u001b[0m\u001b[1;33m\u001b[0m\u001b[0m\n",
      "\u001b[1;32m~\\AppData\\Local\\Packages\\PythonSoftwareFoundation.Python.3.9_qbz5n2kfra8p0\\LocalCache\\local-packages\\Python39\\site-packages\\pandas\\io\\parsers\\readers.py\u001b[0m in \u001b[0;36m__init__\u001b[1;34m(self, f, engine, **kwds)\u001b[0m\n\u001b[0;32m    809\u001b[0m             \u001b[0mself\u001b[0m\u001b[1;33m.\u001b[0m\u001b[0moptions\u001b[0m\u001b[1;33m[\u001b[0m\u001b[1;34m\"has_index_names\"\u001b[0m\u001b[1;33m]\u001b[0m \u001b[1;33m=\u001b[0m \u001b[0mkwds\u001b[0m\u001b[1;33m[\u001b[0m\u001b[1;34m\"has_index_names\"\u001b[0m\u001b[1;33m]\u001b[0m\u001b[1;33m\u001b[0m\u001b[1;33m\u001b[0m\u001b[0m\n\u001b[0;32m    810\u001b[0m \u001b[1;33m\u001b[0m\u001b[0m\n\u001b[1;32m--> 811\u001b[1;33m         \u001b[0mself\u001b[0m\u001b[1;33m.\u001b[0m\u001b[0m_engine\u001b[0m \u001b[1;33m=\u001b[0m \u001b[0mself\u001b[0m\u001b[1;33m.\u001b[0m\u001b[0m_make_engine\u001b[0m\u001b[1;33m(\u001b[0m\u001b[0mself\u001b[0m\u001b[1;33m.\u001b[0m\u001b[0mengine\u001b[0m\u001b[1;33m)\u001b[0m\u001b[1;33m\u001b[0m\u001b[1;33m\u001b[0m\u001b[0m\n\u001b[0m\u001b[0;32m    812\u001b[0m \u001b[1;33m\u001b[0m\u001b[0m\n\u001b[0;32m    813\u001b[0m     \u001b[1;32mdef\u001b[0m \u001b[0mclose\u001b[0m\u001b[1;33m(\u001b[0m\u001b[0mself\u001b[0m\u001b[1;33m)\u001b[0m\u001b[1;33m:\u001b[0m\u001b[1;33m\u001b[0m\u001b[1;33m\u001b[0m\u001b[0m\n",
      "\u001b[1;32m~\\AppData\\Local\\Packages\\PythonSoftwareFoundation.Python.3.9_qbz5n2kfra8p0\\LocalCache\\local-packages\\Python39\\site-packages\\pandas\\io\\parsers\\readers.py\u001b[0m in \u001b[0;36m_make_engine\u001b[1;34m(self, engine)\u001b[0m\n\u001b[0;32m   1038\u001b[0m             )\n\u001b[0;32m   1039\u001b[0m         \u001b[1;31m# error: Too many arguments for \"ParserBase\"\u001b[0m\u001b[1;33m\u001b[0m\u001b[1;33m\u001b[0m\u001b[0m\n\u001b[1;32m-> 1040\u001b[1;33m         \u001b[1;32mreturn\u001b[0m \u001b[0mmapping\u001b[0m\u001b[1;33m[\u001b[0m\u001b[0mengine\u001b[0m\u001b[1;33m]\u001b[0m\u001b[1;33m(\u001b[0m\u001b[0mself\u001b[0m\u001b[1;33m.\u001b[0m\u001b[0mf\u001b[0m\u001b[1;33m,\u001b[0m \u001b[1;33m**\u001b[0m\u001b[0mself\u001b[0m\u001b[1;33m.\u001b[0m\u001b[0moptions\u001b[0m\u001b[1;33m)\u001b[0m  \u001b[1;31m# type: ignore[call-arg]\u001b[0m\u001b[1;33m\u001b[0m\u001b[1;33m\u001b[0m\u001b[0m\n\u001b[0m\u001b[0;32m   1041\u001b[0m \u001b[1;33m\u001b[0m\u001b[0m\n\u001b[0;32m   1042\u001b[0m     \u001b[1;32mdef\u001b[0m \u001b[0m_failover_to_python\u001b[0m\u001b[1;33m(\u001b[0m\u001b[0mself\u001b[0m\u001b[1;33m)\u001b[0m\u001b[1;33m:\u001b[0m\u001b[1;33m\u001b[0m\u001b[1;33m\u001b[0m\u001b[0m\n",
      "\u001b[1;32m~\\AppData\\Local\\Packages\\PythonSoftwareFoundation.Python.3.9_qbz5n2kfra8p0\\LocalCache\\local-packages\\Python39\\site-packages\\pandas\\io\\parsers\\c_parser_wrapper.py\u001b[0m in \u001b[0;36m__init__\u001b[1;34m(self, src, **kwds)\u001b[0m\n\u001b[0;32m     49\u001b[0m \u001b[1;33m\u001b[0m\u001b[0m\n\u001b[0;32m     50\u001b[0m         \u001b[1;31m# open handles\u001b[0m\u001b[1;33m\u001b[0m\u001b[1;33m\u001b[0m\u001b[0m\n\u001b[1;32m---> 51\u001b[1;33m         \u001b[0mself\u001b[0m\u001b[1;33m.\u001b[0m\u001b[0m_open_handles\u001b[0m\u001b[1;33m(\u001b[0m\u001b[0msrc\u001b[0m\u001b[1;33m,\u001b[0m \u001b[0mkwds\u001b[0m\u001b[1;33m)\u001b[0m\u001b[1;33m\u001b[0m\u001b[1;33m\u001b[0m\u001b[0m\n\u001b[0m\u001b[0;32m     52\u001b[0m         \u001b[1;32massert\u001b[0m \u001b[0mself\u001b[0m\u001b[1;33m.\u001b[0m\u001b[0mhandles\u001b[0m \u001b[1;32mis\u001b[0m \u001b[1;32mnot\u001b[0m \u001b[1;32mNone\u001b[0m\u001b[1;33m\u001b[0m\u001b[1;33m\u001b[0m\u001b[0m\n\u001b[0;32m     53\u001b[0m \u001b[1;33m\u001b[0m\u001b[0m\n",
      "\u001b[1;32m~\\AppData\\Local\\Packages\\PythonSoftwareFoundation.Python.3.9_qbz5n2kfra8p0\\LocalCache\\local-packages\\Python39\\site-packages\\pandas\\io\\parsers\\base_parser.py\u001b[0m in \u001b[0;36m_open_handles\u001b[1;34m(self, src, kwds)\u001b[0m\n\u001b[0;32m    220\u001b[0m         \u001b[0mLet\u001b[0m \u001b[0mthe\u001b[0m \u001b[0mreaders\u001b[0m \u001b[0mopen\u001b[0m \u001b[0mIOHandles\u001b[0m \u001b[0mafter\u001b[0m \u001b[0mthey\u001b[0m \u001b[0mare\u001b[0m \u001b[0mdone\u001b[0m \u001b[1;32mwith\u001b[0m \u001b[0mtheir\u001b[0m \u001b[0mpotential\u001b[0m \u001b[0mraises\u001b[0m\u001b[1;33m.\u001b[0m\u001b[1;33m\u001b[0m\u001b[1;33m\u001b[0m\u001b[0m\n\u001b[0;32m    221\u001b[0m         \"\"\"\n\u001b[1;32m--> 222\u001b[1;33m         self.handles = get_handle(\n\u001b[0m\u001b[0;32m    223\u001b[0m             \u001b[0msrc\u001b[0m\u001b[1;33m,\u001b[0m\u001b[1;33m\u001b[0m\u001b[1;33m\u001b[0m\u001b[0m\n\u001b[0;32m    224\u001b[0m             \u001b[1;34m\"r\"\u001b[0m\u001b[1;33m,\u001b[0m\u001b[1;33m\u001b[0m\u001b[1;33m\u001b[0m\u001b[0m\n",
      "\u001b[1;32m~\\AppData\\Local\\Packages\\PythonSoftwareFoundation.Python.3.9_qbz5n2kfra8p0\\LocalCache\\local-packages\\Python39\\site-packages\\pandas\\io\\common.py\u001b[0m in \u001b[0;36mget_handle\u001b[1;34m(path_or_buf, mode, encoding, compression, memory_map, is_text, errors, storage_options)\u001b[0m\n\u001b[0;32m    700\u001b[0m         \u001b[1;32mif\u001b[0m \u001b[0mioargs\u001b[0m\u001b[1;33m.\u001b[0m\u001b[0mencoding\u001b[0m \u001b[1;32mand\u001b[0m \u001b[1;34m\"b\"\u001b[0m \u001b[1;32mnot\u001b[0m \u001b[1;32min\u001b[0m \u001b[0mioargs\u001b[0m\u001b[1;33m.\u001b[0m\u001b[0mmode\u001b[0m\u001b[1;33m:\u001b[0m\u001b[1;33m\u001b[0m\u001b[1;33m\u001b[0m\u001b[0m\n\u001b[0;32m    701\u001b[0m             \u001b[1;31m# Encoding\u001b[0m\u001b[1;33m\u001b[0m\u001b[1;33m\u001b[0m\u001b[0m\n\u001b[1;32m--> 702\u001b[1;33m             handle = open(\n\u001b[0m\u001b[0;32m    703\u001b[0m                 \u001b[0mhandle\u001b[0m\u001b[1;33m,\u001b[0m\u001b[1;33m\u001b[0m\u001b[1;33m\u001b[0m\u001b[0m\n\u001b[0;32m    704\u001b[0m                 \u001b[0mioargs\u001b[0m\u001b[1;33m.\u001b[0m\u001b[0mmode\u001b[0m\u001b[1;33m,\u001b[0m\u001b[1;33m\u001b[0m\u001b[1;33m\u001b[0m\u001b[0m\n",
      "\u001b[1;31mFileNotFoundError\u001b[0m: [Errno 2] No such file or directory: 'data/centrality_score.csv'"
     ]
    }
   ],
   "source": [
    "num_bear = pd.read_csv('data/num_bear_plus_country.csv')\n",
    "cpi = pd.read_csv('data/cpi2015.csv')\n",
    "centrality = pd.read_csv('data/centrality_score.csv')\n",
    "print(num_bear.shape[0])\n",
    "print(cpi.shape[0])\n",
    "bear_cpi = num_bear.merge(cpi,left_on='E.countries',right_on='Country')\n",
    "sns.scatterplot(x='CPI score 2015',y='total',data= bear_cpi)\n",
    "plt.show()\n",
    "bear_cpi"
   ]
  },
  {
   "cell_type": "markdown",
   "metadata": {},
   "source": [
    "Clustering\n"
   ]
  },
  {
   "cell_type": "code",
   "execution_count": 32,
   "metadata": {},
   "outputs": [
    {
     "data": {
      "text/plain": [
       "<AxesSubplot:xlabel='CPI score 2015', ylabel='total'>"
      ]
     },
     "execution_count": 32,
     "metadata": {},
     "output_type": "execute_result"
    },
    {
     "data": {
      "image/png": "[encoded data removed]",
      "text/plain": [
       "<Figure size 432x288 with 1 Axes>"
      ]
     },
     "metadata": {
      "needs_background": "light"
     },
     "output_type": "display_data"
    }
   ],
   "source": [
    "import sklearn.cluster as cluster\n",
    "kmeans = cluster.KMeans(n_clusters=2)\n",
    "kmeans.fit(bear_cpi[['total','CPI score 2015']])\n",
    "bear_cpi['Clusters']=kmeans.labels_\n",
    "bear_cpi\n",
    "sns.scatterplot(x='CPI score 2015',y='total',data=bear_cpi,hue='Clusters')"
   ]
  },
  {
   "cell_type": "code",
   "execution_count": 2,
   "metadata": {},
   "outputs": [
    {
     "name": "stderr",
     "output_type": "stream",
     "text": [
      "Transaction failed and will be retried in 1.109834870106722s (Couldn't connect to localhost:7687 (resolved to ('[::1]:7687', '127.0.0.1:7687')):\n",
      "Failed to establish connection to ResolvedIPv6Address(('::1', 7687, 0, 0)) (reason [WinError 10061] No connection could be made because the target machine actively refused it)\n",
      "Failed to establish connection to ResolvedIPv4Address(('127.0.0.1', 7687)) (reason [WinError 10061] No connection could be made because the target machine actively refused it))\n",
      "Transaction failed and will be retried in 1.8620994565393134s (Couldn't connect to localhost:7687 (resolved to ('[::1]:7687', '127.0.0.1:7687')):\n",
      "Failed to establish connection to ResolvedIPv6Address(('::1', 7687, 0, 0)) (reason [WinError 10061] No connection could be made because the target machine actively refused it)\n",
      "Failed to establish connection to ResolvedIPv4Address(('127.0.0.1', 7687)) (reason [WinError 10061] No connection could be made because the target machine actively refused it))\n",
      "Transaction failed and will be retried in 4.6305463664861275s (Couldn't connect to localhost:7687 (resolved to ('[::1]:7687', '127.0.0.1:7687')):\n",
      "Failed to establish connection to ResolvedIPv6Address(('::1', 7687, 0, 0)) (reason [WinError 10061] No connection could be made because the target machine actively refused it)\n",
      "Failed to establish connection to ResolvedIPv4Address(('127.0.0.1', 7687)) (reason [WinError 10061] No connection could be made because the target machine actively refused it))\n"
     ]
    },
    {
     "ename": "KeyboardInterrupt",
     "evalue": "",
     "output_type": "error",
     "traceback": [
      "\u001b[1;31m---------------------------------------------------------------------------\u001b[0m",
      "\u001b[1;31mKeyboardInterrupt\u001b[0m                         Traceback (most recent call last)",
      "\u001b[1;32m~\\AppData\\Local\\Temp/ipykernel_29088/2472716857.py\u001b[0m in \u001b[0;36m<module>\u001b[1;34m\u001b[0m\n\u001b[0;32m      5\u001b[0m \u001b[1;33m\u001b[0m\u001b[0m\n\u001b[0;32m      6\u001b[0m \u001b[1;32mwith\u001b[0m \u001b[0mdriver\u001b[0m\u001b[1;33m.\u001b[0m\u001b[0msession\u001b[0m\u001b[1;33m(\u001b[0m\u001b[0mdatabase\u001b[0m\u001b[1;33m=\u001b[0m\u001b[1;34m\"neo4j\"\u001b[0m\u001b[1;33m)\u001b[0m \u001b[1;32mas\u001b[0m \u001b[0msession\u001b[0m\u001b[1;33m:\u001b[0m\u001b[1;33m\u001b[0m\u001b[1;33m\u001b[0m\u001b[0m\n\u001b[1;32m----> 7\u001b[1;33m   results = session.read_transaction(\n\u001b[0m\u001b[0;32m      8\u001b[0m     lambda tx: tx.run(cypher_query,\n\u001b[0;32m      9\u001b[0m                       name=\"Ross, Jr. - Wilbur Louis\").data())\n",
      "\u001b[1;32m~\\AppData\\Local\\Packages\\PythonSoftwareFoundation.Python.3.9_qbz5n2kfra8p0\\LocalCache\\local-packages\\Python39\\site-packages\\neo4j\\work\\simple.py\u001b[0m in \u001b[0;36mread_transaction\u001b[1;34m(self, transaction_function, *args, **kwargs)\u001b[0m\n\u001b[0;32m    394\u001b[0m         \u001b[1;33m:\u001b[0m\u001b[1;32mreturn\u001b[0m\u001b[1;33m:\u001b[0m \u001b[0ma\u001b[0m \u001b[0mresult\u001b[0m \u001b[1;32mas\u001b[0m \u001b[0mreturned\u001b[0m \u001b[0mby\u001b[0m \u001b[0mthe\u001b[0m \u001b[0mgiven\u001b[0m \u001b[0munit\u001b[0m \u001b[0mof\u001b[0m \u001b[0mwork\u001b[0m\u001b[1;33m\u001b[0m\u001b[1;33m\u001b[0m\u001b[0m\n\u001b[0;32m    395\u001b[0m         \"\"\"\n\u001b[1;32m--> 396\u001b[1;33m         \u001b[1;32mreturn\u001b[0m \u001b[0mself\u001b[0m\u001b[1;33m.\u001b[0m\u001b[0m_run_transaction\u001b[0m\u001b[1;33m(\u001b[0m\u001b[0mREAD_ACCESS\u001b[0m\u001b[1;33m,\u001b[0m \u001b[0mtransaction_function\u001b[0m\u001b[1;33m,\u001b[0m \u001b[1;33m*\u001b[0m\u001b[0margs\u001b[0m\u001b[1;33m,\u001b[0m \u001b[1;33m**\u001b[0m\u001b[0mkwargs\u001b[0m\u001b[1;33m)\u001b[0m\u001b[1;33m\u001b[0m\u001b[1;33m\u001b[0m\u001b[0m\n\u001b[0m\u001b[0;32m    397\u001b[0m \u001b[1;33m\u001b[0m\u001b[0m\n\u001b[0;32m    398\u001b[0m     \u001b[1;32mdef\u001b[0m \u001b[0mwrite_transaction\u001b[0m\u001b[1;33m(\u001b[0m\u001b[0mself\u001b[0m\u001b[1;33m,\u001b[0m \u001b[0mtransaction_function\u001b[0m\u001b[1;33m,\u001b[0m \u001b[1;33m*\u001b[0m\u001b[0margs\u001b[0m\u001b[1;33m,\u001b[0m \u001b[1;33m**\u001b[0m\u001b[0mkwargs\u001b[0m\u001b[1;33m)\u001b[0m\u001b[1;33m:\u001b[0m\u001b[1;33m\u001b[0m\u001b[1;33m\u001b[0m\u001b[0m\n",
      "\u001b[1;32m~\\AppData\\Local\\Packages\\PythonSoftwareFoundation.Python.3.9_qbz5n2kfra8p0\\LocalCache\\local-packages\\Python39\\site-packages\\neo4j\\work\\simple.py\u001b[0m in \u001b[0;36m_run_transaction\u001b[1;34m(self, access_mode, transaction_function, *args, **kwargs)\u001b[0m\n\u001b[0;32m    347\u001b[0m             \u001b[0mdelay\u001b[0m \u001b[1;33m=\u001b[0m \u001b[0mnext\u001b[0m\u001b[1;33m(\u001b[0m\u001b[0mretry_delay\u001b[0m\u001b[1;33m)\u001b[0m\u001b[1;33m\u001b[0m\u001b[1;33m\u001b[0m\u001b[0m\n\u001b[0;32m    348\u001b[0m             \u001b[0mlog\u001b[0m\u001b[1;33m.\u001b[0m\u001b[0mwarning\u001b[0m\u001b[1;33m(\u001b[0m\u001b[1;34m\"Transaction failed and will be retried in {}s ({})\"\u001b[0m\u001b[1;33m.\u001b[0m\u001b[0mformat\u001b[0m\u001b[1;33m(\u001b[0m\u001b[0mdelay\u001b[0m\u001b[1;33m,\u001b[0m \u001b[1;34m\"; \"\u001b[0m\u001b[1;33m.\u001b[0m\u001b[0mjoin\u001b[0m\u001b[1;33m(\u001b[0m\u001b[0merrors\u001b[0m\u001b[1;33m[\u001b[0m\u001b[1;33m-\u001b[0m\u001b[1;36m1\u001b[0m\u001b[1;33m]\u001b[0m\u001b[1;33m.\u001b[0m\u001b[0margs\u001b[0m\u001b[1;33m)\u001b[0m\u001b[1;33m)\u001b[0m\u001b[1;33m)\u001b[0m\u001b[1;33m\u001b[0m\u001b[1;33m\u001b[0m\u001b[0m\n\u001b[1;32m--> 349\u001b[1;33m             \u001b[0msleep\u001b[0m\u001b[1;33m(\u001b[0m\u001b[0mdelay\u001b[0m\u001b[1;33m)\u001b[0m\u001b[1;33m\u001b[0m\u001b[1;33m\u001b[0m\u001b[0m\n\u001b[0m\u001b[0;32m    350\u001b[0m \u001b[1;33m\u001b[0m\u001b[0m\n\u001b[0;32m    351\u001b[0m         \u001b[1;32mif\u001b[0m \u001b[0merrors\u001b[0m\u001b[1;33m:\u001b[0m\u001b[1;33m\u001b[0m\u001b[1;33m\u001b[0m\u001b[0m\n",
      "\u001b[1;31mKeyboardInterrupt\u001b[0m: "
     ]
    }
   ],
   "source": [
    "cypher_query = '''\n",
    "MATCH (a:Officer {name:$name})-[r:officer_of|intermediary_of|registered_address*..10]-(b)\n",
    "RETURN b.name as name LIMIT 20\n",
    "'''\n",
    "\n",
    "with driver.session(database=\"neo4j\") as session:\n",
    "  results = session.read_transaction(\n",
    "    lambda tx: tx.run(cypher_query,\n",
    "                      name=\"Ross, Jr. - Wilbur Louis\").data())\n",
    "  for record in results:\n",
    "    print(record['name'])\n",
    "\n",
    "driver.close()"
   ]
  },
  {
   "cell_type": "code",
   "execution_count": 33,
   "metadata": {},
   "outputs": [],
   "source": [
    "import requests\n",
    "import pandas as pd\n",
    "data_params = {\n",
    "    'q':'Mossack Fonseca',\n",
    "    'api_token': 'ysyigAGAdYml7u4idgZ5'\n",
    "}\n",
    "result = requests.get( 'https://api.opencorporates.com/companies/search',params=data_params)\n",
    "bv = result.json()\n"
   ]
  },
  {
   "cell_type": "markdown",
   "metadata": {},
   "source": [
    "Labeling of nodes\n"
   ]
  },
  {
   "cell_type": "code",
   "execution_count": 36,
   "metadata": {},
   "outputs": [
    {
     "name": "stdout",
     "output_type": "stream",
     "text": [
      "mossack fonseca\n",
      "{'api_version': '0.4.8', 'results': {'companies': [{'company': {'name': 'CONIFER RIDGE LIMITED', 'company_number': '02942205', 'jurisdiction_code': 'gb', 'incorporation_date': '1994-06-23', 'dissolution_date': '2020-09-22', 'company_type': 'Private Limited Company', 'registry_url': 'https://beta.companieshouse.gov.uk/company/02942205', 'branch': None, 'branch_status': None, 'inactive': True, 'current_status': 'Dissolved', 'created_at': '2010-10-22T20:03:56+00:00', 'updated_at': '2020-09-23T11:09:39+00:00', 'retrieved_at': '2020-09-23T11:09:37+00:00', 'opencorporates_url': 'https://opencorporates.com/companies/gb/02942205', 'previous_names': [{'company_name': 'OAKWOOD EDGE LIMITED', 'start_date': '2017-12-04', 'end_date': '2018-01-24'}, {'company_name': 'DESERT ROAD LIMITED', 'start_date': '2017-11-21', 'end_date': '2017-12-04'}, {'company_name': 'SYCAMORE LANE LIMITED', 'start_date': '2017-11-07', 'end_date': '2017-11-21'}, {'company_name': 'MOSSACK FONSECA & CO. (U.K.) LIMITED', 'start_date': '1994-06-23', 'end_date': '2017-11-07'}], 'source': {'publisher': 'UK Companies House', 'url': 'http://xmlgw.companieshouse.gov.uk/', 'terms': 'UK Crown Copyright', 'retrieved_at': '2020-09-23T11:09:37+00:00'}, 'registered_address': {'street_address': 'Ground Floor Invision House\\nWilbury Way', 'locality': 'Hitchin', 'region': 'Hertfordshire', 'postal_code': 'SG4 0TW', 'country': 'England'}, 'registered_address_in_full': 'Ground Floor Invision House\\nWilbury Way, Hitchin, Hertfordshire, SG4 0TW', 'industry_codes': [], 'restricted_for_marketing': None, 'native_company_number': None}}, {'company': {'name': 'DORFAIR (OVERSEAS) LIMITED', 'company_number': '0260757', 'jurisdiction_code': 'hk', 'incorporation_date': '1989-08-11', 'dissolution_date': '1997-05-23', 'company_type': 'Private company limited by shares', 'registry_url': None, 'branch': None, 'branch_status': None, 'inactive': True, 'current_status': 'Dissolved', 'created_at': '2014-09-01T03:04:36+00:00', 'updated_at': '2020-04-30T02:03:36+00:00', 'retrieved_at': '2020-04-29T22:25:15+00:00', 'opencorporates_url': 'https://opencorporates.com/companies/hk/0260757', 'previous_names': [{'start_date': '1989-08-11', 'company_name': 'MOSSACK FONSECA SECRETARIES LIMITED'}], 'source': {'publisher': 'Hong Kong Companies Registry', 'url': 'http://www.icris.cr.gov.hk/', 'retrieved_at': '2020-04-29T22:25:15+00:00'}, 'registered_address': None, 'registered_address_in_full': None, 'industry_codes': [], 'restricted_for_marketing': None, 'native_company_number': None}}, {'company': {'name': 'MOSSACK FONSECA & ASSOCIATES,S A.', 'company_number': '224253', 'jurisdiction_code': 'pa', 'incorporation_date': '1989-07-12', 'dissolution_date': None, 'company_type': 'SOCIEDAD ANONIMA', 'registry_url': 'http://www.registro-publico.gob.pa/consultasweb/api/index.php/ObtenerFolio/1281004/1', 'branch': None, 'branch_status': None, 'inactive': False, 'current_status': 'Suspendido', 'created_at': '2011-06-19T15:31:57+00:00', 'updated_at': '2020-09-30T06:52:12+00:00', 'retrieved_at': '2020-09-30T05:22:01+00:00', 'opencorporates_url': 'https://opencorporates.com/companies/pa/224253', 'previous_names': [], 'source': {'publisher': 'Registro Público de Panamá', 'url': 'http://www.registro-publico.gob.pa/consultasweb/api/index.php/ObtenerFolio/1281004/1', 'retrieved_at': '2020-09-30T05:22:01+00:00'}, 'registered_address': {'street_address': 'PROVINCIA PANAMÁ', 'locality': None, 'region': None, 'postal_code': None, 'country': 'Panama'}, 'registered_address_in_full': 'PROVINCIA PANAMÁ', 'industry_codes': [], 'restricted_for_marketing': None, 'native_company_number': '224253S'}}, {'company': {'name': 'MOSSACK FONSECA & C. (U.K.) LIMITED', 'company_number': '83112B', 'jurisdiction_code': 'bs', 'incorporation_date': None, 'dissolution_date': None, 'company_type': 'International Business Corporation', 'registry_url': None, 'branch': None, 'branch_status': None, 'inactive': True, 'current_status': 'Struck Off', 'created_at': '2013-09-07T08:11:25+00:00', 'updated_at': '2020-04-15T11:39:30+00:00', 'retrieved_at': '2020-04-15T07:50:54+00:00', 'opencorporates_url': 'https://opencorporates.com/companies/bs/83112B', 'previous_names': [], 'source': {'publisher': \"Registrar General's Department of the Bahamas\", 'url': 'http://rgd.bahamas.gov.bs:8081/netdata/db2www.pgm/findcompany.ndm/searchcomps?retfield=ctyp&retfield2=cnum&retfield3=cnam&formname=selectcompany&ntyp=', 'retrieved_at': '2020-04-15T07:50:54+00:00'}, 'registered_address': None, 'registered_address_in_full': None, 'industry_codes': [], 'restricted_for_marketing': None, 'native_company_number': '83112'}}, {'company': {'name': 'MOSSACK FONSECA & CO (BALTICS) LIMITED', 'company_number': '07234144', 'jurisdiction_code': 'gb', 'incorporation_date': '2010-04-26', 'dissolution_date': '2012-05-22', 'company_type': 'Private Limited Company', 'registry_url': 'https://beta.companieshouse.gov.uk/company/07234144', 'branch': None, 'branch_status': None, 'inactive': True, 'current_status': 'Dissolved', 'created_at': '2010-10-22T20:03:55+00:00', 'updated_at': '2016-04-07T10:30:49+00:00', 'retrieved_at': '2016-04-07T10:30:44+00:00', 'opencorporates_url': 'https://opencorporates.com/companies/gb/07234144', 'previous_names': [], 'source': {'publisher': 'UK Companies House', 'url': 'http://xmlgw.companieshouse.gov.uk/', 'terms': 'UK Crown Copyright', 'retrieved_at': '2016-04-07T10:30:44+00:00'}, 'registered_address': {'street_address': 'Invision House\\nWilbury Way', 'locality': 'Hicthin', 'region': 'Herts', 'postal_code': 'SG4 0TW', 'country': 'United Kingdom'}, 'registered_address_in_full': 'Invision House\\nWilbury Way, Hicthin, Herts, SG4 0TW', 'industry_codes': [], 'restricted_for_marketing': None, 'native_company_number': None}}, {'company': {'name': 'MOSSACK FONSECA & CO (CANADA) LIMITED', 'company_number': '07233989', 'jurisdiction_code': 'gb', 'incorporation_date': '2010-04-23', 'dissolution_date': '2012-05-22', 'company_type': 'Private Limited Company', 'registry_url': 'https://beta.companieshouse.gov.uk/company/07233989', 'branch': None, 'branch_status': None, 'inactive': True, 'current_status': 'Dissolved', 'created_at': '2010-10-22T20:03:55+00:00', 'updated_at': '2018-03-19T18:43:19+00:00', 'retrieved_at': '2015-09-24T10:32:32+00:00', 'opencorporates_url': 'https://opencorporates.com/companies/gb/07233989', 'previous_names': [], 'source': {'publisher': 'UK Companies House', 'url': 'http://xmlgw.companieshouse.gov.uk/', 'terms': 'UK Crown Copyright', 'retrieved_at': '2015-09-24T10:32:32+00:00'}, 'registered_address': {'street_address': 'INVISION HOUSE, WILBURY WAY, HICTHIN, HERTS', 'locality': 'UNITED KINGDOM', 'region': None, 'postal_code': 'SG4 0TW', 'country': None}, 'registered_address_in_full': 'INVISION HOUSE, WILBURY WAY, HICTHIN, HERTS, UNITED KINGDOM, SG4 0TW', 'industry_codes': [], 'restricted_for_marketing': None, 'native_company_number': None}}, {'company': {'name': 'MOSSACK FONSECA & CO (MOLDOVA) LIMITED', 'company_number': '07233951', 'jurisdiction_code': 'gb', 'incorporation_date': '2010-04-23', 'dissolution_date': '2012-05-22', 'company_type': 'Private Limited Company', 'registry_url': 'https://beta.companieshouse.gov.uk/company/07233951', 'branch': None, 'branch_status': None, 'inactive': True, 'current_status': 'Dissolved', 'created_at': '2010-10-22T20:03:56+00:00', 'updated_at': '2018-03-19T18:43:19+00:00', 'retrieved_at': '2015-12-23T11:51:05+00:00', 'opencorporates_url': 'https://opencorporates.com/companies/gb/07233951', 'previous_names': [], 'source': {'publisher': 'UK Companies House', 'url': 'http://xmlgw.companieshouse.gov.uk/', 'terms': 'UK Crown Copyright', 'retrieved_at': '2015-12-23T11:51:05+00:00'}, 'registered_address': {'street_address': 'Invision House\\nWilbury Way', 'locality': 'Hicthin', 'region': 'Herts', 'postal_code': 'SG4 0TW', 'country': 'United Kingdom'}, 'registered_address_in_full': 'Invision House\\nWilbury Way, Hicthin, Herts, SG4 0TW', 'industry_codes': [], 'restricted_for_marketing': None, 'native_company_number': None}}, {'company': {'name': 'MOSSACK FONSECA & CO (TORONTO) LIMITED', 'company_number': '07234160', 'jurisdiction_code': 'gb', 'incorporation_date': '2010-04-26', 'dissolution_date': '2012-05-22', 'company_type': 'Private Limited Company', 'registry_url': 'https://beta.companieshouse.gov.uk/company/07234160', 'branch': None, 'branch_status': None, 'inactive': True, 'current_status': 'Dissolved', 'created_at': '2010-10-22T20:03:56+00:00', 'updated_at': '2018-03-19T18:43:19+00:00', 'retrieved_at': '2015-09-24T10:32:33+00:00', 'opencorporates_url': 'https://opencorporates.com/companies/gb/07234160', 'previous_names': [], 'source': {'publisher': 'UK Companies House', 'url': 'http://xmlgw.companieshouse.gov.uk/', 'terms': 'UK Crown Copyright', 'retrieved_at': '2015-09-24T10:32:33+00:00'}, 'registered_address': {'street_address': 'INVISION HOUSE, WILBURY WAY, HICTHIN, HERTS', 'locality': 'UNITED KINGDOM', 'region': None, 'postal_code': 'SG4 0TW', 'country': None}, 'registered_address_in_full': 'INVISION HOUSE, WILBURY WAY, HICTHIN, HERTS, UNITED KINGDOM, SG4 0TW', 'industry_codes': [], 'restricted_for_marketing': None, 'native_company_number': None}}, {'company': {'name': 'MOSSACK FONSECA & CO (UKRAINE) LIMITED', 'company_number': '07234244', 'jurisdiction_code': 'gb', 'incorporation_date': '2010-04-26', 'dissolution_date': '2012-05-22', 'company_type': 'Private Limited Company', 'registry_url': 'https://beta.companieshouse.gov.uk/company/07234244', 'branch': None, 'branch_status': None, 'inactive': True, 'current_status': 'Dissolved', 'created_at': '2010-10-22T20:03:56+00:00', 'updated_at': '2018-03-19T18:43:19+00:00', 'retrieved_at': '2016-04-05T09:44:53+00:00', 'opencorporates_url': 'https://opencorporates.com/companies/gb/07234244', 'previous_names': [], 'source': {'publisher': 'UK Companies House', 'url': 'http://xmlgw.companieshouse.gov.uk/', 'terms': 'UK Crown Copyright', 'retrieved_at': '2016-04-05T09:44:53+00:00'}, 'registered_address': {'street_address': 'Invision House\\nWilbury Way', 'locality': 'Hicthin', 'region': 'Herts', 'postal_code': 'SG4 0TW', 'country': 'United Kingdom'}, 'registered_address_in_full': 'Invision House\\nWilbury Way, Hicthin, Herts, SG4 0TW', 'industry_codes': [], 'restricted_for_marketing': None, 'native_company_number': None}}, {'company': {'name': 'MOSSACK FONSECA & CO ECUADOR S.A.', 'company_number': '758346', 'jurisdiction_code': 'pa', 'incorporation_date': '2012-01-19', 'dissolution_date': None, 'company_type': 'SOCIEDAD ANONIMA', 'registry_url': 'http://www.registro-publico.gob.pa/consultasweb/api/index.php/ObtenerFolio/1801906/1', 'branch': None, 'branch_status': None, 'inactive': True, 'current_status': 'Disuelto', 'created_at': '2014-11-30T02:44:27+00:00', 'updated_at': '2021-03-17T14:15:53+00:00', 'retrieved_at': '2021-03-17T08:14:53+00:00', 'opencorporates_url': 'https://opencorporates.com/companies/pa/758346', 'previous_names': [], 'source': {'publisher': 'Registro Público de Panamá', 'url': 'http://www.registro-publico.gob.pa/consultasweb/api/index.php/ObtenerFolio/1801906/1', 'retrieved_at': '2021-03-17T08:14:53+00:00'}, 'registered_address': {'street_address': 'PROVINCIA PANAMÁ', 'locality': None, 'region': None, 'postal_code': None, 'country': 'Panama'}, 'registered_address_in_full': 'PROVINCIA PANAMÁ', 'industry_codes': [], 'restricted_for_marketing': None, 'native_company_number': '758346S'}}, {'company': {'name': 'MOSSACK FONSECA & CO Zürich SA (SUCCURSALE LUGANO)', 'company_number': '1160854', 'jurisdiction_code': 'ch', 'incorporation_date': None, 'dissolution_date': '2016-04-29', 'company_type': 'Aktiengesellschaft', 'registry_url': 'https://www.zefix.ch/en/search/entity/list/firm/1160854', 'branch': 'L', 'branch_status': 'local branch', 'inactive': True, 'current_status': 'Gelöscht', 'created_at': '2016-09-09T18:01:31+00:00', 'updated_at': '2016-09-09T18:01:31+00:00', 'retrieved_at': '2016-09-07T16:56:09+00:00', 'opencorporates_url': 'https://opencorporates.com/companies/ch/1160854', 'previous_names': [], 'source': {'publisher': 'Swiss Central Register of the Federal Commercial Registry Office (Zefix Web Services)', 'url': 'http://www.e-service.admin.ch/ws-zefix-1.7/ZefixService/', 'retrieved_at': '2016-09-07T16:56:09+00:00'}, 'registered_address': {'street_address': 'Via Curti, 5', 'locality': 'Lugano', 'region': None, 'postal_code': '6900', 'country': 'CH'}, 'registered_address_in_full': 'Via Curti, 5, Lugano, 6900', 'industry_codes': [], 'restricted_for_marketing': None, 'native_company_number': None}}, {'company': {'name': 'MOSSACK FONSECA & CO. (ASIA) LIMITED', 'company_number': '0814346', 'jurisdiction_code': 'hk', 'incorporation_date': '2002-09-16', 'dissolution_date': '2018-12-14', 'company_type': 'Private company limited by shares', 'registry_url': None, 'branch': None, 'branch_status': None, 'inactive': True, 'current_status': 'Dissolved', 'created_at': '2014-09-01T11:22:17+00:00', 'updated_at': '2020-02-05T22:18:18+00:00', 'retrieved_at': '2020-02-02T16:57:15+00:00', 'opencorporates_url': 'https://opencorporates.com/companies/hk/0814346', 'previous_names': [{'start_date': '2008-12-12', 'company_name': '莫薩克．馮賽卡(亞洲)有限公司'}], 'source': {'publisher': 'Hong Kong Companies Registry', 'url': 'http://www.icris.cr.gov.hk/', 'retrieved_at': '2020-02-02T16:57:15+00:00'}, 'registered_address': None, 'registered_address_in_full': None, 'industry_codes': [], 'restricted_for_marketing': None, 'native_company_number': None}}, {'company': {'name': 'MOSSACK FONSECA & CO. (BAHAMAS) LIMITED', 'company_number': '37071C', 'jurisdiction_code': 'bs', 'incorporation_date': None, 'dissolution_date': None, 'company_type': 'Regular (Local) Company', 'registry_url': None, 'branch': None, 'branch_status': None, 'inactive': None, 'current_status': None, 'created_at': '2015-12-15T19:56:32+00:00', 'updated_at': '2020-05-22T16:20:24+00:00', 'retrieved_at': '2020-05-22T07:35:15+00:00', 'opencorporates_url': 'https://opencorporates.com/companies/bs/37071C', 'previous_names': [], 'source': {'publisher': \"Registrar General's Department of the Bahamas\", 'url': 'http://rgd.bahamas.gov.bs:8081/netdata/db2www.pgm/findcompany.ndm/searchcomps?retfield=ctyp&retfield2=cnum&retfield3=cnam&formname=selectcompany&ntyp=', 'retrieved_at': '2020-05-22T07:35:15+00:00'}, 'registered_address': None, 'registered_address_in_full': None, 'industry_codes': [], 'restricted_for_marketing': None, 'native_company_number': '37071'}}, {'company': {'name': 'MOSSACK FONSECA & CO. (BRASIL) S/C LTDA', 'company_number': '02880957000103', 'jurisdiction_code': 'br', 'incorporation_date': None, 'dissolution_date': None, 'company_type': None, 'registry_url': None, 'branch': None, 'branch_status': None, 'inactive': None, 'current_status': None, 'created_at': '2018-07-13T14:45:05+00:00', 'updated_at': '2019-02-01T05:39:21+00:00', 'retrieved_at': '2018-08-02T18:30:00+00:00', 'opencorporates_url': 'https://opencorporates.com/companies/br/02880957000103', 'previous_names': [], 'source': {'publisher': 'Receita Federal do Brasil, Coordenação-Geral de Gestão de Cadastros', 'url': 'http://dados.gov.br/dataset/qsa', 'terms': 'Creative Commons Attribution License (cc-by)', 'terms_url': 'http://dados.gov.br/dataset/qsa', 'retrieved_at': '2018-08-02T18:30:00+00:00'}, 'registered_address': None, 'registered_address_in_full': None, 'industry_codes': [], 'restricted_for_marketing': None, 'native_company_number': None}}, {'company': {'name': 'MOSSACK FONSECA & CO. (H.K.) LIMITED', 'company_number': '0455225', 'jurisdiction_code': 'hk', 'incorporation_date': '1993-11-25', 'dissolution_date': '2005-06-09', 'company_type': 'Private company limited by shares', 'registry_url': None, 'branch': None, 'branch_status': None, 'inactive': True, 'current_status': 'Dissolved', 'created_at': '2014-09-01T06:21:51+00:00', 'updated_at': '2020-01-06T04:38:04+00:00', 'retrieved_at': '2020-01-05T17:47:36+00:00', 'opencorporates_url': 'https://opencorporates.com/companies/hk/0455225', 'previous_names': [{'start_date': '1993-11-25', 'company_name': 'EARLY ON SERVICES LIMITED'}, {'start_date': '1993-11-25', 'company_name': '易利安服務有限公司'}], 'source': {'publisher': 'Hong Kong Companies Registry', 'url': 'http://www.icris.cr.gov.hk/', 'retrieved_at': '2020-01-05T17:47:36+00:00'}, 'registered_address': None, 'registered_address_in_full': None, 'industry_codes': [], 'restricted_for_marketing': None, 'native_company_number': None}}, {'company': {'name': 'MOSSACK FONSECA & CO. (HONG KONG) INCORPORATED', 'company_number': '185619', 'jurisdiction_code': 'pa', 'incorporation_date': '1987-01-22', 'dissolution_date': None, 'company_type': 'SOCIEDAD ANONIMA', 'registry_url': 'http://www.registro-publico.gob.pa/consultasweb/api/index.php/ObtenerFolio/1242466/1', 'branch': None, 'branch_status': None, 'inactive': False, 'current_status': 'Vigente', 'created_at': '2011-06-19T16:31:01+00:00', 'updated_at': '2020-08-10T01:04:31+00:00', 'retrieved_at': '2020-08-09T07:33:48+00:00', 'opencorporates_url': 'https://opencorporates.com/companies/pa/185619', 'previous_names': [], 'source': {'publisher': 'Registro Público de Panamá', 'url': 'http://www.registro-publico.gob.pa/consultasweb/api/index.php/ObtenerFolio/1242466/1', 'retrieved_at': '2020-08-09T07:33:48+00:00'}, 'registered_address': {'street_address': 'PROVINCIA PANAMÁ', 'locality': None, 'region': None, 'postal_code': None, 'country': 'Panama'}, 'registered_address_in_full': 'PROVINCIA PANAMÁ', 'industry_codes': [], 'restricted_for_marketing': None, 'native_company_number': '185619S'}}, {'company': {'name': 'MOSSACK FONSECA & CO. (JERSEY) LIMITED', 'company_number': 'EXTUID_26365', 'jurisdiction_code': 'je', 'incorporation_date': '1992-07-02', 'dissolution_date': '2017-12-14', 'company_type': 'RC - Registered Private Company', 'registry_url': 'https://www.jerseyfsc.org/registry/documentsearch/NameDetail.aspx?id=26365', 'branch': None, 'branch_status': None, 'inactive': True, 'current_status': 'Dissolved', 'created_at': '2010-11-26T12:35:17+00:00', 'updated_at': '2021-07-08T09:59:44+00:00', 'retrieved_at': '2021-07-08T04:29:49+00:00', 'opencorporates_url': 'https://opencorporates.com/companies/je/EXTUID_26365', 'previous_names': [], 'source': {'publisher': 'Jersey Financial Services Commission', 'url': 'https://www.jerseyfsc.org/registry/documentsearch/NameDetail.aspx?id=26365', 'retrieved_at': '2021-07-08T04:29:49+00:00'}, 'registered_address': {'street_address': '11 Stopford Road St Helier Jersey ', 'locality': None, 'region': None, 'postal_code': 'JE2 4LB', 'country': 'Jersey'}, 'registered_address_in_full': '11 Stopford Road St Helier Jersey , JE2 4LB', 'industry_codes': [], 'restricted_for_marketing': None, 'native_company_number': '52984'}}, {'company': {'name': 'MOSSACK FONSECA & CO. (MALTA) LTD', 'company_number': 'C60535', 'jurisdiction_code': 'mt', 'incorporation_date': '2013-05-23', 'dissolution_date': None, 'company_type': None, 'registry_url': None, 'branch': None, 'branch_status': None, 'inactive': None, 'current_status': None, 'created_at': '2013-05-28T04:12:26+00:00', 'updated_at': '2021-05-13T22:11:49+00:00', 'retrieved_at': '2021-05-13T20:14:20+00:00', 'opencorporates_url': 'https://opencorporates.com/companies/mt/C60535', 'previous_names': [], 'source': {'publisher': 'The Malta Business Registry', 'url': 'https://support.mbr.mt/pages/Default.aspx', 'retrieved_at': '2021-05-13T20:14:20+00:00'}, 'registered_address': {'street_address': 'OFFICE 2, SUITE 2, THE PENTHOUSE, CAPITAL BUSINESS CENTRE, ENTRANCE C, TRIQ TAZ-ZWEJT,', 'locality': 'SAN GWANN', 'region': None, 'postal_code': None, 'country': 'Malta'}, 'registered_address_in_full': 'OFFICE 2, SUITE 2, THE PENTHOUSE, CAPITAL BUSINESS CENTRE, ENTRANCE C, TRIQ TAZ-ZWEJT,, SAN GWANN', 'industry_codes': [], 'restricted_for_marketing': None, 'native_company_number': None}}, {'company': {'name': 'MOSSACK FONSECA & CO. (NEW ZEALAND) LIMITED', 'company_number': '4852039', 'jurisdiction_code': 'nz', 'incorporation_date': '2013-12-15', 'dissolution_date': '2016-08-15', 'company_type': 'NZ Limited Company', 'registry_url': 'http://www.business.govt.nz/companies/app/ui/pages/companies/4852039/detail', 'branch': None, 'branch_status': None, 'inactive': True, 'current_status': 'Removed', 'created_at': '2013-12-16T00:04:18+00:00', 'updated_at': '2020-01-03T21:33:00+00:00', 'retrieved_at': '2017-06-06T13:25:19+00:00', 'opencorporates_url': 'https://opencorporates.com/companies/nz/4852039', 'previous_names': [], 'source': {'publisher': 'Ministry of Business, Innovation & Employment NZBI API', 'url': 'https://api.business.govt.nz', 'retrieved_at': '2017-06-06T13:25:19+00:00'}, 'registered_address': {'street_address': 'BENTLEYS CHARTERED ACCOUNTANTS, Level 13, Dla Piper Tower, 205 Queen Street, Auckland', 'locality': None, 'region': None, 'postal_code': '1010', 'country': 'NZ'}, 'registered_address_in_full': 'BENTLEYS CHARTERED ACCOUNTANTS, Level 13, Dla Piper Tower, 205 Queen Street, Auckland, 1010', 'industry_codes': [], 'restricted_for_marketing': None, 'native_company_number': None}}, {'company': {'name': 'MOSSACK FONSECA & CO. (NIUE) LTD.', 'company_number': '29475B', 'jurisdiction_code': 'bs', 'incorporation_date': None, 'dissolution_date': None, 'company_type': 'International Business Corporation', 'registry_url': None, 'branch': None, 'branch_status': None, 'inactive': True, 'current_status': 'Struck Off', 'created_at': '2013-09-05T11:42:35+00:00', 'updated_at': '2020-05-19T14:53:19+00:00', 'retrieved_at': '2020-05-19T02:05:15+00:00', 'opencorporates_url': 'https://opencorporates.com/companies/bs/29475B', 'previous_names': [], 'source': {'publisher': \"Registrar General's Department of the Bahamas\", 'url': 'http://rgd.bahamas.gov.bs:8081/netdata/db2www.pgm/findcompany.ndm/searchcomps?retfield=ctyp&retfield2=cnum&retfield3=cnam&formname=selectcompany&ntyp=', 'retrieved_at': '2020-05-19T02:05:15+00:00'}, 'registered_address': None, 'registered_address_in_full': None, 'industry_codes': [], 'restricted_for_marketing': None, 'native_company_number': '29475'}}, {'company': {'name': 'MOSSACK FONSECA & CO. (PERU) CORP.', 'company_number': '406537', 'jurisdiction_code': 'pa', 'incorporation_date': '2001-09-27', 'dissolution_date': None, 'company_type': 'SOCIEDAD ANONIMA', 'registry_url': 'http://www.registro-publico.gob.pa/consultasweb/api/index.php/ObtenerFolio/1460809/1', 'branch': None, 'branch_status': None, 'inactive': False, 'current_status': 'Vigente', 'created_at': '2011-06-19T14:09:31+00:00', 'updated_at': '2021-01-05T06:44:23+00:00', 'retrieved_at': '2021-01-05T03:03:51+00:00', 'opencorporates_url': 'https://opencorporates.com/companies/pa/406537', 'previous_names': [], 'source': {'publisher': 'Registro Público de Panamá', 'url': 'http://www.registro-publico.gob.pa/consultasweb/api/index.php/ObtenerFolio/1460809/1', 'retrieved_at': '2021-01-05T03:03:51+00:00'}, 'registered_address': {'street_address': 'PROVINCIA PANAMÁ', 'locality': None, 'region': None, 'postal_code': None, 'country': 'Panama'}, 'registered_address_in_full': 'PROVINCIA PANAMÁ', 'industry_codes': [], 'restricted_for_marketing': None, 'native_company_number': '406537S'}}, {'company': {'name': 'MOSSACK FONSECA & CO. (SINGAPORE) PTE LTD', 'company_number': '197903540W', 'jurisdiction_code': 'sg', 'incorporation_date': '1979-11-22', 'dissolution_date': None, 'company_type': 'Local Company - EXEMPT PRIVATE COMPANY LIMITED BY SHARES', 'registry_url': 'https://www.tis.bizfile.gov.sg/ngbtisinternet/faces/oracle/webcenter/portalapp/pages/productlisting/ishopProductListing.jspx?EntityNo=197903540W&_afrLoop=352221289253950&_afrWindowMode=0&_afrWindowId=null', 'branch': None, 'branch_status': None, 'inactive': True, 'current_status': \"Dissolved   Members' Voluntary Winding Up\", 'created_at': '2013-03-19T20:05:22+00:00', 'updated_at': '2022-02-24T05:04:33+00:00', 'retrieved_at': '2022-02-23T00:00:00+00:00', 'opencorporates_url': 'https://opencorporates.com/companies/sg/197903540W', 'previous_names': [{'company_name': 'IGUANA ADVENTURE PTE LTD'}, {'company_name': 'INTRON PRIVATE LIMITED'}], 'source': {'publisher': 'Singapore Accounting and Corporate Regulatory Authority', 'url': 'https://data.gov.sg/dataset/acra-information-on-corporate-entities', 'terms': 'Singapore Open Data Licence', 'terms_url': 'https://data.gov.sg/open-data-licence', 'retrieved_at': '2022-02-23T00:00:00+00:00'}, 'registered_address': {'street_address': '19 KEPPEL ROAD, #03-05, JIT POH BUILDING', 'locality': None, 'region': None, 'postal_code': '089058', 'country': 'Singapore'}, 'registered_address_in_full': '19 KEPPEL ROAD, #03-05, JIT POH BUILDING, 089058', 'industry_codes': [{'industry_code': {'code': '70201', 'description': 'Business and management consultancy services (general)', 'code_scheme_id': 'sg_ssic_2015', 'code_scheme_name': 'Singapore Standard Industrial Classification (SSIC) 2015', 'uid': 'sg_ssic_2015-70201'}}, {'industry_code': {'code': '82191', 'description': 'Stenographic and secretarial services', 'code_scheme_id': 'sg_ssic_2015', 'code_scheme_name': 'Singapore Standard Industrial Classification (SSIC) 2015', 'uid': 'sg_ssic_2015-82191'}}], 'restricted_for_marketing': None, 'native_company_number': None}}, {'company': {'name': 'MOSSACK FONSECA & CO. TRADING INC.', 'company_number': '211145', 'jurisdiction_code': 'pa', 'incorporation_date': '1988-07-13', 'dissolution_date': None, 'company_type': 'SOCIEDAD ANONIMA', 'registry_url': 'http://www.registro-publico.gob.pa/consultasweb/api/index.php/ObtenerFolio/1267943/1', 'branch': None, 'branch_status': None, 'inactive': False, 'current_status': 'Vigente', 'created_at': '2011-06-19T15:38:44+00:00', 'updated_at': '2020-09-11T09:08:38+00:00', 'retrieved_at': '2020-09-11T06:58:37+00:00', 'opencorporates_url': 'https://opencorporates.com/companies/pa/211145', 'previous_names': [], 'source': {'publisher': 'Registro Público de Panamá', 'url': 'http://www.registro-publico.gob.pa/consultasweb/api/index.php/ObtenerFolio/1267943/1', 'retrieved_at': '2020-09-11T06:58:37+00:00'}, 'registered_address': {'street_address': 'PROVINCIA PANAMÁ', 'locality': None, 'region': None, 'postal_code': None, 'country': 'Panama'}, 'registered_address_in_full': 'PROVINCIA PANAMÁ', 'industry_codes': [], 'restricted_for_marketing': None, 'native_company_number': '211145S'}}, {'company': {'name': 'MOSSACK FONSECA & CO.(COSTA RICA) INC.', 'company_number': '374781', 'jurisdiction_code': 'pa', 'incorporation_date': '2000-02-11', 'dissolution_date': '2000-05-26', 'company_type': 'SOCIEDAD ANONIMA', 'registry_url': 'http://www.registro-publico.gob.pa/consultasweb/api/index.php/ObtenerFolio/1429490/1', 'branch': None, 'branch_status': None, 'inactive': True, 'current_status': 'Disuelto', 'created_at': '2011-06-19T14:23:48+00:00', 'updated_at': '2021-02-18T06:31:48+00:00', 'retrieved_at': '2021-02-18T04:49:58+00:00', 'opencorporates_url': 'https://opencorporates.com/companies/pa/374781', 'previous_names': [], 'source': {'publisher': 'Registro Público de Panamá', 'url': 'http://www.registro-publico.gob.pa/consultasweb/api/index.php/ObtenerFolio/1429490/1', 'retrieved_at': '2021-02-18T04:49:58+00:00'}, 'registered_address': {'street_address': 'PROVINCIA PANAMÁ, OBSERVACIONES QUE DICHA SOCIEDAD ACUERDA SU DISOLUCION MEDIANTE ESCRITURA PUBLICA \\nNUMERO 4310 DE 25 DE ABRIL DE 2000 DE LA NOTARIA QUINTA DEL CIRCUITO \\nDE PANAMA .- SEGUN CONSTA A LA FICHA 374781 DOCUMENTO 111386 DE LA \\nSECCION DE MERCANTIL DE HOY 26 DE MAYO DE 2000.\\n\\n', 'locality': None, 'region': None, 'postal_code': None, 'country': 'Panama'}, 'registered_address_in_full': 'PROVINCIA PANAMÁ, OBSERVACIONES QUE DICHA SOCIEDAD ACUERDA SU DISOLUCION MEDIANTE ESCRITURA PUBLICA \\nNUMERO 4310 DE 25 DE ABRIL DE 2000 DE LA NOTARIA QUINTA DEL CIRCUITO \\nDE PANAMA .- SEGUN CONSTA A LA FICHA 374781 DOCUMENTO 111386 DE LA \\nSECCION DE MERCANTIL DE HOY 26 DE MAYO DE 2000.\\n\\n', 'industry_codes': [], 'restricted_for_marketing': None, 'native_company_number': '374781S'}}, {'company': {'name': 'MOSSACK FONSECA & CO.(GUATEMALA) INC.', 'company_number': '316543', 'jurisdiction_code': 'pa', 'incorporation_date': '1996-05-31', 'dissolution_date': None, 'company_type': 'SOCIEDAD ANONIMA', 'registry_url': 'http://www.registro-publico.gob.pa/consultasweb/api/index.php/ObtenerFolio/1372199/1', 'branch': None, 'branch_status': None, 'inactive': False, 'current_status': 'Suspendido', 'created_at': '2011-06-19T14:49:12+00:00', 'updated_at': '2020-11-22T05:45:02+00:00', 'retrieved_at': '2020-11-22T03:45:31+00:00', 'opencorporates_url': 'https://opencorporates.com/companies/pa/316543', 'previous_names': [], 'source': {'publisher': 'Registro Público de Panamá', 'url': 'http://www.registro-publico.gob.pa/consultasweb/api/index.php/ObtenerFolio/1372199/1', 'retrieved_at': '2020-11-22T03:45:31+00:00'}, 'registered_address': {'street_address': 'PROVINCIA PANAMÁ', 'locality': None, 'region': None, 'postal_code': None, 'country': 'Panama'}, 'registered_address_in_full': 'PROVINCIA PANAMÁ', 'industry_codes': [], 'restricted_for_marketing': None, 'native_company_number': '316543S'}}, {'company': {'name': 'MOSSACK FONSECA & CO., S.A.', 'company_number': '555486', 'jurisdiction_code': 'pa', 'incorporation_date': '2007-02-13', 'dissolution_date': None, 'company_type': 'SOCIEDAD ANONIMA', 'registry_url': 'http://www.registro-publico.gob.pa/consultasweb/api/index.php/ObtenerFolio/1607696/1', 'branch': None, 'branch_status': None, 'inactive': False, 'current_status': 'Vigente', 'created_at': '2011-06-19T11:20:22+00:00', 'updated_at': '2021-03-21T03:37:43+00:00', 'retrieved_at': '2021-03-21T01:29:36+00:00', 'opencorporates_url': 'https://opencorporates.com/companies/pa/555486', 'previous_names': [], 'source': {'publisher': 'Registro Público de Panamá', 'url': 'http://www.registro-publico.gob.pa/consultasweb/api/index.php/ObtenerFolio/1607696/1', 'retrieved_at': '2021-03-21T01:29:36+00:00'}, 'registered_address': {'street_address': 'PANAMA', 'locality': None, 'region': None, 'postal_code': None, 'country': 'Panama'}, 'registered_address_in_full': 'PANAMA', 'industry_codes': [], 'restricted_for_marketing': None, 'native_company_number': '555486S'}}, {'company': {'name': 'MOSSACK FONSECA & Co. (Luxembourg)', 'company_number': 'B155349', 'jurisdiction_code': 'lu', 'incorporation_date': '2010-09-10', 'dissolution_date': None, 'company_type': 'Société à responsabilité limitée', 'registry_url': 'https://www.rcsl.lu/mjrcs/jsp/DisplayConsultDetailCompanyActionNotSecured.action?id=B155349', 'branch': None, 'branch_status': None, 'inactive': None, 'current_status': None, 'created_at': '2011-04-09T17:36:04+00:00', 'updated_at': '2016-07-10T19:11:46+00:00', 'retrieved_at': '2016-07-10T19:11:46+00:00', 'opencorporates_url': 'https://opencorporates.com/companies/lu/B155349', 'previous_names': [], 'source': {'publisher': 'Registre de Commerce et des Sociétés (Luxembourg)', 'url': 'https://www.rcsl.lu/mjrcs/jsp/DisplayConsultDetailCompanyActionNotSecured.action?id=B155349', 'retrieved_at': '2016-07-10T19:11:46+00:00'}, 'registered_address': {'street_address': '14A, rue des Bains\\nL - 1212 Luxembourg', 'locality': None, 'region': None, 'postal_code': None, 'country': 'Luxembourg'}, 'registered_address_in_full': '14A, rue des Bains\\nL - 1212 Luxembourg', 'industry_codes': [], 'restricted_for_marketing': None, 'native_company_number': None}}, {'company': {'name': 'MOSSACK FONSECA & Co. CZ s.r.o., v likvidaci', 'company_number': '25608100', 'jurisdiction_code': 'cz', 'incorporation_date': '1997-09-15', 'dissolution_date': '2010-03-15', 'company_type': 'Společnost s ručením omezeným', 'registry_url': 'https://or.justice.cz/ias/ui/rejstrik-%24firma?jenPlatne=VSECHNY&ico=25608100', 'branch': None, 'branch_status': None, 'inactive': True, 'current_status': 'Zaniklý', 'created_at': '2021-02-07T16:09:42+00:00', 'updated_at': '2021-02-07T16:09:42+00:00', 'retrieved_at': '2021-01-25T19:01:26+00:00', 'opencorporates_url': 'https://opencorporates.com/companies/cz/25608100', 'previous_names': [{'start_date': '1997-09-15', 'company_name': 'MOSSACK FONSECA & Co. CZ s.r.o.', 'end_date': '2006-05-09'}], 'source': {'publisher': 'Ministerstvo spravedlnosti České republiky', 'url': 'https://or.justice.cz/ias/ui/rejstrik', 'retrieved_at': '2021-01-25T19:01:26+00:00'}, 'registered_address': None, 'registered_address_in_full': None, 'industry_codes': [], 'restricted_for_marketing': None, 'native_company_number': None}}, {'company': {'name': 'MOSSACK FONSECA & PARTNERS CORP.', 'company_number': '329650', 'jurisdiction_code': 'pa', 'incorporation_date': '1997-04-28', 'dissolution_date': None, 'company_type': 'SOCIEDAD ANONIMA', 'registry_url': 'http://www.registro-publico.gob.pa/consultasweb/api/index.php/ObtenerFolio/1385132/1', 'branch': None, 'branch_status': None, 'inactive': False, 'current_status': 'Vigente', 'created_at': '2011-06-19T14:44:12+00:00', 'updated_at': '2020-12-27T18:59:40+00:00', 'retrieved_at': '2020-12-27T16:42:13+00:00', 'opencorporates_url': 'https://opencorporates.com/companies/pa/329650', 'previous_names': [], 'source': {'publisher': 'Registro Público de Panamá', 'url': 'http://www.registro-publico.gob.pa/consultasweb/api/index.php/ObtenerFolio/1385132/1', 'retrieved_at': '2020-12-27T16:42:13+00:00'}, 'registered_address': {'street_address': 'PROVINCIA PANAMÁ', 'locality': None, 'region': None, 'postal_code': None, 'country': 'Panama'}, 'registered_address_in_full': 'PROVINCIA PANAMÁ', 'industry_codes': [], 'restricted_for_marketing': None, 'native_company_number': '329650S'}}, {'company': {'name': 'MOSSACK FONSECA (CYPRUS) LIMITED', 'company_number': 'HE138503', 'jurisdiction_code': 'cy', 'incorporation_date': '2003-05-26', 'dissolution_date': '2017-01-18', 'company_type': 'Limited Company', 'registry_url': 'https://efiling.drcor.mcit.gov.cy/DrcorPublic/SearchResults.aspx?name=%25&number=138503&searchtype=optStartMatch&index=1&lang=EN&tname=%25&sc=1', 'branch': None, 'branch_status': None, 'inactive': True, 'current_status': 'Dissolved', 'created_at': '2014-09-20T00:20:09+00:00', 'updated_at': '2022-03-15T01:04:24+00:00', 'retrieved_at': '2022-03-14T22:27:56+00:00', 'opencorporates_url': 'https://opencorporates.com/companies/cy/HE138503', 'previous_names': [], 'source': {'publisher': 'Cyprus Department of Registrar of Companies and Official Receiver', 'url': 'http://www.mcit.gov.cy/mcit/drcor/drcor.nsf/index_en/index_en?OpenDocument', 'retrieved_at': '2022-03-14T22:27:56+00:00'}, 'registered_address': {'street_address': 'Δάφνης, 12,\\nFlat/Office 104\\nΠοταμός Γερμασόγειας\\n4041, Λεμεσός, Κύπρος', 'locality': None, 'region': None, 'postal_code': None, 'country': 'Cyprus'}, 'registered_address_in_full': 'Δάφνης, 12,\\nFlat/Office 104\\nΠοταμός Γερμασόγειας\\n4041, Λεμεσός, Κύπρος', 'industry_codes': [], 'restricted_for_marketing': None, 'native_company_number': None}}], 'page': 1, 'per_page': 30, 'total_pages': 2, 'total_count': 51}}\n",
      "True\n",
      "None\n"
     ]
    }
   ],
   "source": [
    "def duration_activity(name):\n",
    "    print(name)\n",
    "    data_params = {\n",
    "    'q':name\n",
    "    }   \n",
    "    result = requests.get( 'https://api.opencorporates.com/companies/search',params=data_params)\n",
    "\n",
    "    bv = result.json()\n",
    "    print(bv)\n",
    "    if len(bv['results']['companies']) == 0:\n",
    "        return None,None\n",
    "    incorp = bv['results']['companies'][0]['company']['incorporation_date']\n",
    "    dissolute = bv['results']['companies'][0]['company']['dissolution_date']\n",
    "    activity = bv['results']['companies'][0]['company']['inactive']\n",
    "    print(activity)\n",
    "\n"
   ]
  },
  {
   "cell_type": "code",
   "execution_count": null,
   "metadata": {},
   "outputs": [
    {
     "name": "stdout",
     "output_type": "stream",
     "text": [
      "3 DIP S.A\n",
      "{'api_version': '0.4.8', 'results': {'companies': [{'company': {'name': '3 DIP S.A.', 'company_number': '554501', 'jurisdiction_code': 'pa', 'incorporation_date': '2007-02-06', 'dissolution_date': None, 'company_type': 'SOCIEDAD ANONIMA', 'registry_url': 'http://www.registro-publico.gob.pa/consultasweb/api/index.php/ObtenerFolio/1606723/1', 'branch': None, 'branch_status': None, 'inactive': False, 'current_status': 'Suspendido', 'created_at': '2011-06-19T11:21:12+00:00', 'updated_at': '2021-03-19T03:23:59+00:00', 'retrieved_at': '2021-03-19T01:05:48+00:00', 'opencorporates_url': 'https://opencorporates.com/companies/pa/554501', 'previous_names': [], 'source': {'publisher': 'Registro Público de Panamá', 'url': 'http://www.registro-publico.gob.pa/consultasweb/api/index.php/ObtenerFolio/1606723/1', 'retrieved_at': '2021-03-19T01:05:48+00:00'}, 'registered_address': {'street_address': 'PROVINCIA PANAMÁ', 'locality': None, 'region': None, 'postal_code': None, 'country': 'Panama'}, 'registered_address_in_full': 'PROVINCIA PANAMÁ', 'industry_codes': [], 'restricted_for_marketing': None, 'native_company_number': '554501S'}}], 'page': 1, 'per_page': 30, 'total_pages': 1, 'total_count': 1}}\n",
      "(False, None)\n"
     ]
    }
   ],
   "source": [
    "from datetime import datetime\n",
    "\n",
    "def duration_activity(name):\n",
    "    print(name)\n",
    "    data_params = {\n",
    "    'q':name\n",
    "    }   \n",
    "    result = requests.get( 'https://api.opencorporates.com/companies/search',params=data_params)\n",
    "\n",
    "    bv = result.json()\n",
    "    print(bv)\n",
    "    if len(bv['results']['companies']) == 0:\n",
    "        return None,None\n",
    "    incorp = bv['results']['companies'][0]['company']['incorporation_date']\n",
    "    dissolute = bv['results']['companies'][0]['company']['dissolution_date']\n",
    "    activity = bv['results']['companies'][0]['company']['inactive']\n",
    "    if activity == None:\n",
    "        activity = None\n",
    "    else:\n",
    "        activity = bv['results']['companies'][0]['company']['inactive']\n",
    "        \n",
    "    if incorp == None or dissolute == None:\n",
    "          return activity,None \n",
    "    else: \n",
    "        dt_start = datetime.strptime( incorp, \"%Y-%m-%d\")\n",
    "        dt_end = datetime.strptime( dissolute, \"%Y-%m-%d\")\n",
    "    duration = dt_end.year-dt_start.year\n",
    "    return activity,duration \n",
    "\n",
    "print(duration_activity('3 DIP S.A'))"
   ]
  },
  {
   "cell_type": "code",
   "execution_count": null,
   "metadata": {},
   "outputs": [
    {
     "data": {
      "text/html": [
       "<div>\n",
       "<style scoped>\n",
       "    .dataframe tbody tr th:only-of-type {\n",
       "        vertical-align: middle;\n",
       "    }\n",
       "\n",
       "    .dataframe tbody tr th {\n",
       "        vertical-align: top;\n",
       "    }\n",
       "\n",
       "    .dataframe thead th {\n",
       "        text-align: right;\n",
       "    }\n",
       "</style>\n",
       "<table border=\"1\" class=\"dataframe\">\n",
       "  <thead>\n",
       "    <tr style=\"text-align: right;\">\n",
       "      <th></th>\n",
       "      <th>entity</th>\n",
       "      <th>num_bearer</th>\n",
       "    </tr>\n",
       "  </thead>\n",
       "  <tbody>\n",
       "    <tr>\n",
       "      <th>0</th>\n",
       "      <td>VELA GAS INVESTMENTS LTD.</td>\n",
       "      <td>492.0</td>\n",
       "    </tr>\n",
       "    <tr>\n",
       "      <th>1</th>\n",
       "      <td>GNG LTD.</td>\n",
       "      <td>200.0</td>\n",
       "    </tr>\n",
       "    <tr>\n",
       "      <th>2</th>\n",
       "      <td>BOB AGENTS LIMITED</td>\n",
       "      <td>165.0</td>\n",
       "    </tr>\n",
       "    <tr>\n",
       "      <th>3</th>\n",
       "      <td>3 DIP S.A.</td>\n",
       "      <td>110.0</td>\n",
       "    </tr>\n",
       "    <tr>\n",
       "      <th>4</th>\n",
       "      <td>INGELSA LTD.</td>\n",
       "      <td>107.0</td>\n",
       "    </tr>\n",
       "    <tr>\n",
       "      <th>...</th>\n",
       "      <td>...</td>\n",
       "      <td>...</td>\n",
       "    </tr>\n",
       "    <tr>\n",
       "      <th>30693</th>\n",
       "      <td>CHORLEY SERVICES LIMITED</td>\n",
       "      <td>1.0</td>\n",
       "    </tr>\n",
       "    <tr>\n",
       "      <th>30694</th>\n",
       "      <td>BEAUVIER LTD.</td>\n",
       "      <td>1.0</td>\n",
       "    </tr>\n",
       "    <tr>\n",
       "      <th>30695</th>\n",
       "      <td>ATALAMA S.A.</td>\n",
       "      <td>1.0</td>\n",
       "    </tr>\n",
       "    <tr>\n",
       "      <th>30696</th>\n",
       "      <td>TETRA INTERNATIONAL LTD.</td>\n",
       "      <td>1.0</td>\n",
       "    </tr>\n",
       "    <tr>\n",
       "      <th>30697</th>\n",
       "      <td>RESEARCH &amp; MANAGEMENT COMPANY LIMITED</td>\n",
       "      <td>1.0</td>\n",
       "    </tr>\n",
       "  </tbody>\n",
       "</table>\n",
       "<p>30698 rows × 2 columns</p>\n",
       "</div>"
      ],
      "text/plain": [
       "                                      entity  num_bearer\n",
       "0                  VELA GAS INVESTMENTS LTD.       492.0\n",
       "1                                   GNG LTD.       200.0\n",
       "2                         BOB AGENTS LIMITED       165.0\n",
       "3                                 3 DIP S.A.       110.0\n",
       "4                               INGELSA LTD.       107.0\n",
       "...                                      ...         ...\n",
       "30693               CHORLEY SERVICES LIMITED         1.0\n",
       "30694                          BEAUVIER LTD.         1.0\n",
       "30695                           ATALAMA S.A.         1.0\n",
       "30696               TETRA INTERNATIONAL LTD.         1.0\n",
       "30697  RESEARCH & MANAGEMENT COMPANY LIMITED         1.0\n",
       "\n",
       "[30698 rows x 2 columns]"
      ]
     },
     "execution_count": 4,
     "metadata": {},
     "output_type": "execute_result"
    }
   ],
   "source": [
    "import pandas as pd\n",
    "num_bears = pd.read_csv('data/num_bear.csv')\n",
    "num_bears"
   ]
  },
  {
   "cell_type": "code",
   "execution_count": 9,
   "metadata": {},
   "outputs": [
    {
     "name": "stdout",
     "output_type": "stream",
     "text": [
      "hello\n"
     ]
    }
   ],
   "source": [
    "new_df = pd.read_csv('data/num_bear_plus_country')\n",
    "new_df.groupby('E.countries').count()['total'].sort_values()\n",
    "print(new_df.shape[0])"
   ]
  },
  {
   "cell_type": "code",
   "execution_count": null,
   "metadata": {},
   "outputs": [
    {
     "name": "stdout",
     "output_type": "stream",
     "text": [
      "VELA GAS INVESTMENTS LTD.\n",
      "<Response [200]>\n",
      "GNG LTD.\n",
      "<Response [200]>\n",
      "BOB AGENTS LIMITED\n",
      "<Response [200]>\n",
      "3 DIP S.A.\n",
      "<Response [200]>\n",
      "INGELSA LTD.\n",
      "<Response [200]>\n",
      "ALDEBARAN ASSET MANAGEMENT LTD.\n",
      "<Response [200]>\n",
      "AMANZI CORPORATION\n",
      "<Response [200]>\n",
      "CAPOMONDO INTERNATIONAL LTD.\n",
      "<Response [200]>\n",
      "WINESELECTION S.A.\n",
      "<Response [200]>\n",
      "EARLY BIRD LIMITED\n",
      "<Response [200]>\n",
      "VS Investments Limited\n",
      "<Response [200]>\n",
      "MEGATRONIC SERVICES S.A.\n",
      "<Response [200]>\n",
      "NOBLE MOBILE LTD.\n",
      "<Response [200]>\n",
      "AZARD SERVICES LTD.\n",
      "<Response [200]>\n",
      "LYNX CONSULTANTS INC.\n",
      "<Response [200]>\n",
      "KEINES INVESTMENTS LIMITED\n",
      "<Response [200]>\n",
      "SUNAIR ELECTRONICS IBEROAMERICA INC.\n",
      "<Response [200]>\n",
      "ROKA RWANDA COLUMBO TANTALITE COLTAN III CORP\n",
      "<Response [200]>\n",
      "JUMP.COM HOLDING INC.\n",
      "<Response [200]>\n",
      "ROKA RWANDA COLUMBO TANTALITE COLTAN II CORP.\n",
      "<Response [200]>\n"
     ]
    }
   ],
   "source": [
    "activites = []\n",
    "durations = []\n",
    "for i in range (20):\n",
    "    name= num_bears['entity'].iloc[i]\n",
    "    values = duration_activity(name)\n",
    "    activites.append(values[0])\n",
    "    durations.append(values[1])\n",
    "  \n",
    "    "
   ]
  },
  {
   "cell_type": "code",
   "execution_count": null,
   "metadata": {},
   "outputs": [
    {
     "data": {
      "text/plain": [
       "[None,\n",
       " None,\n",
       " None,\n",
       " None,\n",
       " None,\n",
       " None,\n",
       " None,\n",
       " None,\n",
       " None,\n",
       " 5,\n",
       " None,\n",
       " None,\n",
       " None,\n",
       " None,\n",
       " None,\n",
       " None,\n",
       " None,\n",
       " None,\n",
       " None,\n",
       " None]"
      ]
     },
     "execution_count": 8,
     "metadata": {},
     "output_type": "execute_result"
    }
   ],
   "source": [
    "activites\n",
    "durations"
   ]
  },
  {
   "cell_type": "code",
   "execution_count": null,
   "metadata": {},
   "outputs": [
    {
     "data": {
      "text/plain": [
       "[]"
      ]
     },
     "execution_count": 46,
     "metadata": {},
     "output_type": "execute_result"
    }
   ],
   "source": [
    "\n",
    "data_params = {\n",
    "    'q':'VELA GAS INVESTMENTS LTD.'\n",
    "    }   \n",
    "result = requests.get( 'https://api.opencorporates.com/companies/search',params=data_params)\n",
    "bv = result.json()\n",
    "bv['results']['companies']"
   ]
  },
  {
   "cell_type": "code",
   "execution_count": null,
   "metadata": {},
   "outputs": [
    {
     "ename": "ValueError",
     "evalue": "Length of values (0) does not match length of index (60)",
     "output_type": "error",
     "traceback": [
      "\u001b[1;31m---------------------------------------------------------------------------\u001b[0m",
      "\u001b[1;31mValueError\u001b[0m                                Traceback (most recent call last)",
      "\u001b[1;32m~\\AppData\\Local\\Temp/ipykernel_28296/1245840220.py\u001b[0m in \u001b[0;36m<module>\u001b[1;34m\u001b[0m\n\u001b[0;32m      1\u001b[0m \u001b[0mex\u001b[0m \u001b[1;33m=\u001b[0m \u001b[0mnum_bears\u001b[0m\u001b[1;33m[\u001b[0m\u001b[1;33m:\u001b[0m\u001b[0mlen\u001b[0m\u001b[1;33m(\u001b[0m\u001b[0mactivites\u001b[0m\u001b[1;33m)\u001b[0m\u001b[1;33m]\u001b[0m\u001b[1;33m\u001b[0m\u001b[1;33m\u001b[0m\u001b[0m\n\u001b[1;32m----> 2\u001b[1;33m \u001b[0mex\u001b[0m\u001b[1;33m[\u001b[0m\u001b[1;34m'duration'\u001b[0m\u001b[1;33m]\u001b[0m \u001b[1;33m=\u001b[0m \u001b[0mdurations\u001b[0m\u001b[1;33m\u001b[0m\u001b[1;33m\u001b[0m\u001b[0m\n\u001b[0m\u001b[0;32m      3\u001b[0m \u001b[0mex\u001b[0m\u001b[1;33m[\u001b[0m\u001b[1;34m'active'\u001b[0m\u001b[1;33m]\u001b[0m \u001b[1;33m=\u001b[0m \u001b[0mactivites\u001b[0m\u001b[1;33m\u001b[0m\u001b[1;33m\u001b[0m\u001b[0m\n\u001b[0;32m      4\u001b[0m \u001b[0mex\u001b[0m\u001b[1;33m\u001b[0m\u001b[1;33m\u001b[0m\u001b[0m\n",
      "\u001b[1;32m~\\AppData\\Local\\Packages\\PythonSoftwareFoundation.Python.3.9_qbz5n2kfra8p0\\LocalCache\\local-packages\\Python39\\site-packages\\pandas\\core\\frame.py\u001b[0m in \u001b[0;36m__setitem__\u001b[1;34m(self, key, value)\u001b[0m\n\u001b[0;32m   3610\u001b[0m         \u001b[1;32melse\u001b[0m\u001b[1;33m:\u001b[0m\u001b[1;33m\u001b[0m\u001b[1;33m\u001b[0m\u001b[0m\n\u001b[0;32m   3611\u001b[0m             \u001b[1;31m# set column\u001b[0m\u001b[1;33m\u001b[0m\u001b[1;33m\u001b[0m\u001b[0m\n\u001b[1;32m-> 3612\u001b[1;33m             \u001b[0mself\u001b[0m\u001b[1;33m.\u001b[0m\u001b[0m_set_item\u001b[0m\u001b[1;33m(\u001b[0m\u001b[0mkey\u001b[0m\u001b[1;33m,\u001b[0m \u001b[0mvalue\u001b[0m\u001b[1;33m)\u001b[0m\u001b[1;33m\u001b[0m\u001b[1;33m\u001b[0m\u001b[0m\n\u001b[0m\u001b[0;32m   3613\u001b[0m \u001b[1;33m\u001b[0m\u001b[0m\n\u001b[0;32m   3614\u001b[0m     \u001b[1;32mdef\u001b[0m \u001b[0m_setitem_slice\u001b[0m\u001b[1;33m(\u001b[0m\u001b[0mself\u001b[0m\u001b[1;33m,\u001b[0m \u001b[0mkey\u001b[0m\u001b[1;33m:\u001b[0m \u001b[0mslice\u001b[0m\u001b[1;33m,\u001b[0m \u001b[0mvalue\u001b[0m\u001b[1;33m)\u001b[0m\u001b[1;33m:\u001b[0m\u001b[1;33m\u001b[0m\u001b[1;33m\u001b[0m\u001b[0m\n",
      "\u001b[1;32m~\\AppData\\Local\\Packages\\PythonSoftwareFoundation.Python.3.9_qbz5n2kfra8p0\\LocalCache\\local-packages\\Python39\\site-packages\\pandas\\core\\frame.py\u001b[0m in \u001b[0;36m_set_item\u001b[1;34m(self, key, value)\u001b[0m\n\u001b[0;32m   3782\u001b[0m         \u001b[0mensure\u001b[0m \u001b[0mhomogeneity\u001b[0m\u001b[1;33m.\u001b[0m\u001b[1;33m\u001b[0m\u001b[1;33m\u001b[0m\u001b[0m\n\u001b[0;32m   3783\u001b[0m         \"\"\"\n\u001b[1;32m-> 3784\u001b[1;33m         \u001b[0mvalue\u001b[0m \u001b[1;33m=\u001b[0m \u001b[0mself\u001b[0m\u001b[1;33m.\u001b[0m\u001b[0m_sanitize_column\u001b[0m\u001b[1;33m(\u001b[0m\u001b[0mvalue\u001b[0m\u001b[1;33m)\u001b[0m\u001b[1;33m\u001b[0m\u001b[1;33m\u001b[0m\u001b[0m\n\u001b[0m\u001b[0;32m   3785\u001b[0m \u001b[1;33m\u001b[0m\u001b[0m\n\u001b[0;32m   3786\u001b[0m         if (\n",
      "\u001b[1;32m~\\AppData\\Local\\Packages\\PythonSoftwareFoundation.Python.3.9_qbz5n2kfra8p0\\LocalCache\\local-packages\\Python39\\site-packages\\pandas\\core\\frame.py\u001b[0m in \u001b[0;36m_sanitize_column\u001b[1;34m(self, value)\u001b[0m\n\u001b[0;32m   4507\u001b[0m \u001b[1;33m\u001b[0m\u001b[0m\n\u001b[0;32m   4508\u001b[0m         \u001b[1;32mif\u001b[0m \u001b[0mis_list_like\u001b[0m\u001b[1;33m(\u001b[0m\u001b[0mvalue\u001b[0m\u001b[1;33m)\u001b[0m\u001b[1;33m:\u001b[0m\u001b[1;33m\u001b[0m\u001b[1;33m\u001b[0m\u001b[0m\n\u001b[1;32m-> 4509\u001b[1;33m             \u001b[0mcom\u001b[0m\u001b[1;33m.\u001b[0m\u001b[0mrequire_length_match\u001b[0m\u001b[1;33m(\u001b[0m\u001b[0mvalue\u001b[0m\u001b[1;33m,\u001b[0m \u001b[0mself\u001b[0m\u001b[1;33m.\u001b[0m\u001b[0mindex\u001b[0m\u001b[1;33m)\u001b[0m\u001b[1;33m\u001b[0m\u001b[1;33m\u001b[0m\u001b[0m\n\u001b[0m\u001b[0;32m   4510\u001b[0m         \u001b[1;32mreturn\u001b[0m \u001b[0msanitize_array\u001b[0m\u001b[1;33m(\u001b[0m\u001b[0mvalue\u001b[0m\u001b[1;33m,\u001b[0m \u001b[0mself\u001b[0m\u001b[1;33m.\u001b[0m\u001b[0mindex\u001b[0m\u001b[1;33m,\u001b[0m \u001b[0mcopy\u001b[0m\u001b[1;33m=\u001b[0m\u001b[1;32mTrue\u001b[0m\u001b[1;33m,\u001b[0m \u001b[0mallow_2d\u001b[0m\u001b[1;33m=\u001b[0m\u001b[1;32mTrue\u001b[0m\u001b[1;33m)\u001b[0m\u001b[1;33m\u001b[0m\u001b[1;33m\u001b[0m\u001b[0m\n\u001b[0;32m   4511\u001b[0m \u001b[1;33m\u001b[0m\u001b[0m\n",
      "\u001b[1;32m~\\AppData\\Local\\Packages\\PythonSoftwareFoundation.Python.3.9_qbz5n2kfra8p0\\LocalCache\\local-packages\\Python39\\site-packages\\pandas\\core\\common.py\u001b[0m in \u001b[0;36mrequire_length_match\u001b[1;34m(data, index)\u001b[0m\n\u001b[0;32m    529\u001b[0m     \"\"\"\n\u001b[0;32m    530\u001b[0m     \u001b[1;32mif\u001b[0m \u001b[0mlen\u001b[0m\u001b[1;33m(\u001b[0m\u001b[0mdata\u001b[0m\u001b[1;33m)\u001b[0m \u001b[1;33m!=\u001b[0m \u001b[0mlen\u001b[0m\u001b[1;33m(\u001b[0m\u001b[0mindex\u001b[0m\u001b[1;33m)\u001b[0m\u001b[1;33m:\u001b[0m\u001b[1;33m\u001b[0m\u001b[1;33m\u001b[0m\u001b[0m\n\u001b[1;32m--> 531\u001b[1;33m         raise ValueError(\n\u001b[0m\u001b[0;32m    532\u001b[0m             \u001b[1;34m\"Length of values \"\u001b[0m\u001b[1;33m\u001b[0m\u001b[1;33m\u001b[0m\u001b[0m\n\u001b[0;32m    533\u001b[0m             \u001b[1;34mf\"({len(data)}) \"\u001b[0m\u001b[1;33m\u001b[0m\u001b[1;33m\u001b[0m\u001b[0m\n",
      "\u001b[1;31mValueError\u001b[0m: Length of values (0) does not match length of index (60)"
     ]
    }
   ],
   "source": [
    "ex = num_bears[:len(activites)]\n",
    "ex['duration'] = durations\n",
    "ex['active'] = activites\n",
    "ex"
   ]
  },
  {
   "cell_type": "code",
   "execution_count": null,
   "metadata": {},
   "outputs": [],
   "source": []
  }
 ],
 "metadata": {
  "interpreter": {
   "hash": "213202a0cd8efddbbf511abb213508e1e768e8ce4ad6ba2c9ec5c0d49826e071"
  },
  "kernelspec": {
   "display_name": "Python 3.9.10 64-bit (windows store)",
   "language": "python",
   "name": "python3"
  },
  "language_info": {
   "codemirror_mode": {
    "name": "ipython",
    "version": 3
   },
   "file_extension": ".py",
   "mimetype": "text/x-python",
   "name": "python",
   "nbconvert_exporter": "python",
   "pygments_lexer": "ipython3",
   "version": "3.9.10"
  },
  "orig_nbformat": 4
 },
 "nbformat": 4,
 "nbformat_minor": 2
}
