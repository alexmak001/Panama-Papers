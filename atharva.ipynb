{
 "cells": [
  {
   "cell_type": "code",
   "execution_count": 2,
   "metadata": {},
   "outputs": [],
   "source": [
    "from neo4j import GraphDatabase, basic_auth\n",
    "import pandas as pd\n",
    "import numpy as np\n",
    "import matplotlib.pyplot as plt"
   ]
  },
  {
   "cell_type": "code",
   "execution_count": 3,
   "metadata": {},
   "outputs": [],
   "source": [
    "# launch neoj4 browser and start an instance of the database\n",
    "driver = GraphDatabase.driver(\n",
    "  \"bolt://localhost:11003\",\n",
    "  auth=basic_auth(\"neo4j\", \"atharva\"))\n"
   ]
  },
  {
   "cell_type": "code",
   "execution_count": 4,
   "metadata": {},
   "outputs": [],
   "source": [
    "cypher_query = '''\n",
    "MATCH (a:Officer {name:$name})-[r:officer_of|intermediary_of|registered_address*..10]-(b)\n",
    "RETURN b.name as name LIMIT 20\n",
    "'''"
   ]
  },
  {
   "cell_type": "markdown",
   "metadata": {},
   "source": [
    "### Example Query"
   ]
  },
  {
   "cell_type": "code",
   "execution_count": 5,
   "metadata": {},
   "outputs": [],
   "source": [
    "with driver.session(database=\"neo4j\") as session:\n",
    "    results = session.read_transaction(\n",
    "        lambda tx: tx.run(cypher_query,\n",
    "                      name=\"Ross, Jr. - Wilbur Louis\").data())\n",
    "    \n",
    "    # for record in results:\n",
    "    #     print(record['name'])\n",
    "\n",
    "driver.close()"
   ]
  },
  {
   "cell_type": "markdown",
   "metadata": {},
   "source": [
    "### Example Query #2"
   ]
  },
  {
   "cell_type": "code",
   "execution_count": 6,
   "metadata": {},
   "outputs": [],
   "source": [
    "cypher_query2 = '''\n",
    "MATCH (o:Officer)-->(e:Entity)<-[:intermediary_of]-(i:Intermediary)\n",
    "WHERE o.country_codes CONTAINS 'USA' and i.sourceID = 'Panama Papers'\n",
    "RETURN e.jurisdiction_description AS jurisdiction, count(*) AS number\n",
    "ORDER BY number DESC LIMIT 10\n",
    "'''\n",
    "# cypher_query2 = '''\n",
    "# MATCH (a:Officer),(b:Officer)\n",
    "# WHERE a.name CONTAINS 'Smith' AND a.sourceID = \"Panama Papers\"\n",
    "# AND b.name CONTAINS 'Grant'\n",
    "# MATCH p=allShortestPaths((a)-[:officer_of|intermediary_of|registered_address*]-(b))\n",
    "# RETURN p\n",
    "# LIMIT 50\n",
    "# '''\n"
   ]
  },
  {
   "cell_type": "code",
   "execution_count": 9,
   "metadata": {},
   "outputs": [
    {
     "data": {
      "text/plain": [
       "[]"
      ]
     },
     "execution_count": 9,
     "metadata": {},
     "output_type": "execute_result"
    }
   ],
   "source": [
    "\n",
    "with driver.session(database=\"neo4j\") as session:\n",
    "    results = session.read_transaction(\n",
    "        lambda tx: tx.run(cypher_query2))\n",
    "\n",
    "\n",
    "    list = []\n",
    "    for node in results:\n",
    "        list.append(node)\n",
    "\n",
    "    # country = []\n",
    "    # val = []\n",
    "    # #print(results)\n",
    "    # for record in results:\n",
    "    #     print(record)\n",
    "    #     country.append(record.values()[0])\n",
    "    #     val.append(record.values()[1])\n",
    "        \n",
    "\n",
    "driver.close()\n",
    "list"
   ]
  },
  {
   "cell_type": "code",
   "execution_count": 23,
   "metadata": {},
   "outputs": [],
   "source": [
    "# plt.plot(country,val)"
   ]
  },
  {
   "cell_type": "code",
   "execution_count": null,
   "metadata": {},
   "outputs": [],
   "source": []
  }
 ],
 "metadata": {
  "interpreter": {
   "hash": "054c0128ae785496ec715fe55dc407401ac17e534a17f921fadf0b2704e9e719"
  },
  "kernelspec": {
   "display_name": "Python 3.8.3 64-bit ('base': conda)",
   "language": "python",
   "name": "python3"
  },
  "language_info": {
   "codemirror_mode": {
    "name": "ipython",
    "version": 3
   },
   "file_extension": ".py",
   "mimetype": "text/x-python",
   "name": "python",
   "nbconvert_exporter": "python",
   "pygments_lexer": "ipython3",
   "version": "3.8.5"
  },
  "orig_nbformat": 4
 },
 "nbformat": 4,
 "nbformat_minor": 2
}
